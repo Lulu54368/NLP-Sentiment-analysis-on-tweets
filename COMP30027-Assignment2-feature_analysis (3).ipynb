{
 "cells": [
  {
   "cell_type": "markdown",
   "metadata": {},
   "source": [
    "##### The University of Melbourne, School of Computing and Information Systems\n",
    "# COMP30027 Machine Learning, 2022 Semester 1\n",
    "\n",
    "## Assignment 2: Sentiment Classification of Tweets\n",
    "\n",
    "This is a sample code to assist you with vectorising the 'Train' dataset for your assignment 2.\n",
    "\n",
    "First we read the CSV datafiles (Train and Test)."
   ]
  },
  {
   "cell_type": "code",
   "execution_count": 1,
   "metadata": {},
   "outputs": [],
   "source": [
    "import pandas as pd\n",
    "\n",
    "train_data = pd.read_csv(\"Train.csv\", sep=',')\n",
    "test_data = pd.read_csv(\"Test.csv\", sep=',')"
   ]
  },
  {
   "cell_type": "markdown",
   "metadata": {},
   "source": [
    "Then we separate the tweet text and the label (sentiment). "
   ]
  },
  {
   "cell_type": "code",
   "execution_count": 2,
   "metadata": {
    "scrolled": true
   },
   "outputs": [
    {
     "name": "stdout",
     "output_type": "stream",
     "text": [
      "Train length: 21802\n",
      "Test length: 6099\n"
     ]
    }
   ],
   "source": [
    "#separating instance and label for Train\n",
    "X_train_raw = [x[0] for x in train_data[['text']].values]\n",
    "Y_train = [x[0] for x in train_data[['sentiment']].values]\n",
    "\n",
    "#check the result\n",
    "print(\"Train length:\",len(X_train_raw))\n",
    "\n",
    "#separating instance and label for Test\n",
    "X_test_raw = [x[0] for x in test_data[['text']].values]\n",
    "\n",
    "#check the result\n",
    "print(\"Test length:\",len(X_test_raw))"
   ]
  },
  {
   "cell_type": "code",
   "execution_count": 3,
   "metadata": {},
   "outputs": [
    {
     "name": "stdout",
     "output_type": "stream",
     "text": [
      " is anybody going to the radio station tomorrow to see shawn? me and my friend may go but we would like to make new friends/meet there (:\t\n",
      " if tim duncan played one more season we would've been an able to call him 21 savage üòî...\n"
     ]
    }
   ],
   "source": [
    "#Let's see one example tweet\n",
    "print(X_train_raw[1])\n",
    "print(X_train_raw[42])\n",
    "\n"
   ]
  },
  {
   "cell_type": "code",
   "execution_count": 4,
   "metadata": {
    "scrolled": true
   },
   "outputs": [
    {
     "data": {
      "text/html": [
       "<div>\n",
       "<style scoped>\n",
       "    .dataframe tbody tr th:only-of-type {\n",
       "        vertical-align: middle;\n",
       "    }\n",
       "\n",
       "    .dataframe tbody tr th {\n",
       "        vertical-align: top;\n",
       "    }\n",
       "\n",
       "    .dataframe thead th {\n",
       "        text-align: right;\n",
       "    }\n",
       "</style>\n",
       "<table border=\"1\" class=\"dataframe\">\n",
       "  <thead>\n",
       "    <tr style=\"text-align: right;\">\n",
       "      <th></th>\n",
       "      <th>Unnamed: 0</th>\n",
       "      <th>id</th>\n",
       "      <th>text</th>\n",
       "      <th>sentiment</th>\n",
       "    </tr>\n",
       "  </thead>\n",
       "  <tbody>\n",
       "    <tr>\n",
       "      <th>0</th>\n",
       "      <td>2</td>\n",
       "      <td>805582613687713000</td>\n",
       "      <td>doctors hit campaign trail as race to medical...</td>\n",
       "      <td>neutral</td>\n",
       "    </tr>\n",
       "    <tr>\n",
       "      <th>1</th>\n",
       "      <td>3</td>\n",
       "      <td>637480203497832000</td>\n",
       "      <td>is anybody going to the radio station tomorro...</td>\n",
       "      <td>positive</td>\n",
       "    </tr>\n",
       "    <tr>\n",
       "      <th>2</th>\n",
       "      <td>4</td>\n",
       "      <td>641096279930507000</td>\n",
       "      <td>i just found out naruto didn't become the 5th...</td>\n",
       "      <td>neutral</td>\n",
       "    </tr>\n",
       "    <tr>\n",
       "      <th>3</th>\n",
       "      <td>5</td>\n",
       "      <td>625730917647126000</td>\n",
       "      <td>\"prince george reservist who died saturday ju...</td>\n",
       "      <td>neutral</td>\n",
       "    </tr>\n",
       "    <tr>\n",
       "      <th>4</th>\n",
       "      <td>6</td>\n",
       "      <td>633292370906230000</td>\n",
       "      <td>season in the sun versi nirvana rancak gak..s...</td>\n",
       "      <td>positive</td>\n",
       "    </tr>\n",
       "  </tbody>\n",
       "</table>\n",
       "</div>"
      ],
      "text/plain": [
       "   Unnamed: 0                  id  \\\n",
       "0           2  805582613687713000   \n",
       "1           3  637480203497832000   \n",
       "2           4  641096279930507000   \n",
       "3           5  625730917647126000   \n",
       "4           6  633292370906230000   \n",
       "\n",
       "                                                text sentiment  \n",
       "0   doctors hit campaign trail as race to medical...   neutral  \n",
       "1   is anybody going to the radio station tomorro...  positive  \n",
       "2   i just found out naruto didn't become the 5th...   neutral  \n",
       "3   \"prince george reservist who died saturday ju...   neutral  \n",
       "4   season in the sun versi nirvana rancak gak..s...  positive  "
      ]
     },
     "execution_count": 4,
     "metadata": {},
     "output_type": "execute_result"
    }
   ],
   "source": [
    "train_data.head()"
   ]
  },
  {
   "cell_type": "markdown",
   "metadata": {},
   "source": [
    "### Preprocessing"
   ]
  },
  {
   "cell_type": "code",
   "execution_count": 5,
   "metadata": {},
   "outputs": [
    {
     "name": "stdout",
     "output_type": "stream",
     "text": [
      " i just found out naruto didn't become the 5th hokage....\t\n",
      " if tim duncan played one more season we would've been an able to call him 21 savage uoi...\n"
     ]
    }
   ],
   "source": [
    "from bs4 import BeautifulSoup\n",
    "import spacy\n",
    "import unidecode\n",
    "# remove accented words\n",
    "X_train_raw = list(map(lambda text: unidecode.unidecode(text), X_train_raw))\n",
    "print(X_train_raw[2])\n",
    "print(X_train_raw[42])\n",
    "\n",
    "   "
   ]
  },
  {
   "cell_type": "code",
   "execution_count": 6,
   "metadata": {},
   "outputs": [
    {
     "name": "stdout",
     "output_type": "stream",
     "text": [
      " i just found out naruto did not become the 5th hokage....\t\n",
      " if tim duncan played one more season we would have been an able to call him 21 savage uoi...\n"
     ]
    }
   ],
   "source": [
    "# expand contractions\n",
    "import contractions\n",
    "X_train_raw = list(map(lambda text: contractions.fix(text), X_train_raw))\n",
    "print(X_train_raw[2])\n",
    "print(X_train_raw[42])\n"
   ]
  },
  {
   "cell_type": "code",
   "execution_count": 7,
   "metadata": {},
   "outputs": [
    {
     "name": "stdout",
     "output_type": "stream",
     "text": [
      "i just found out naruto did not become the 5th hokage....\n",
      "if tim duncan played one more season we would have been an able to call him 21 savage uoi...\n"
     ]
    }
   ],
   "source": [
    "# remove whitespace\n",
    "X_train_raw =  [\" \".join(text.split()) for text in X_train_raw]\n",
    "print(X_train_raw[2])\n",
    "print(X_train_raw[42])\n"
   ]
  },
  {
   "cell_type": "code",
   "execution_count": 8,
   "metadata": {
    "scrolled": false
   },
   "outputs": [],
   "source": [
    "nlp = spacy.load('en_core_web_sm')\n",
    "docs = list(map(lambda text: nlp(text), X_train_raw))\n"
   ]
  },
  {
   "cell_type": "code",
   "execution_count": null,
   "metadata": {},
   "outputs": [],
   "source": []
  },
  {
   "cell_type": "code",
   "execution_count": 9,
   "metadata": {},
   "outputs": [],
   "source": [
    "# remove no/not from stop words\n",
    "deselect_stop_words = ['no', 'not']\n",
    "for w in deselect_stop_words:\n",
    "    nlp.vocab[w].is_stop = False"
   ]
  },
  {
   "cell_type": "code",
   "execution_count": 10,
   "metadata": {
    "scrolled": true
   },
   "outputs": [
    {
     "name": "stdout",
     "output_type": "stream",
     "text": [
      "['found', 'naruto', 'not', 'become', '5th', 'hokage....']\n",
      "['tim', 'duncan', 'played', 'one', 'season', 'would', 'able', 'call', '21', 'savage', 'uoi...']\n"
     ]
    }
   ],
   "source": [
    "# remove stopping words\n",
    "\n",
    "# Create list of word tokens after removing stopwords\n",
    "from nltk.corpus import stopwords\n",
    "from nltk.tokenize import word_tokenize\n",
    " \n",
    "stop_words = set(stopwords.words('english'))\n",
    "for word in ['not', 'no']:\n",
    "    stop_words.remove(word)\n",
    "filtered_sentence = [[w  for w in doc.split(' ') if w not in stop_words]for doc in X_train_raw]\n",
    "print(filtered_sentence[2])\n",
    "print(filtered_sentence[42])\n",
    "\n",
    "        "
   ]
  },
  {
   "cell_type": "code",
   "execution_count": 11,
   "metadata": {},
   "outputs": [],
   "source": [
    "# Lemmatizing each token\n",
    "from nltk.stem import WordNetLemmatizer"
   ]
  },
  {
   "cell_type": "code",
   "execution_count": 12,
   "metadata": {},
   "outputs": [],
   "source": [
    "lemmatizer =  WordNetLemmatizer()\n"
   ]
  },
  {
   "cell_type": "code",
   "execution_count": 13,
   "metadata": {},
   "outputs": [],
   "source": [
    "lemmatized_sentence = [[lemmatizer.lemmatize(t) for t in tokenized] for tokenized in filtered_sentence]"
   ]
  },
  {
   "cell_type": "code",
   "execution_count": 14,
   "metadata": {},
   "outputs": [
    {
     "name": "stdout",
     "output_type": "stream",
     "text": [
      "tim duncan played one season would able call 21 savage uoi...\n"
     ]
    }
   ],
   "source": [
    "X_train_raw = [' '.join(line) for line in lemmatized_sentence]\n",
    "print(X_train_raw[42])"
   ]
  },
  {
   "cell_type": "markdown",
   "metadata": {},
   "source": [
    "### split training and testing dataset"
   ]
  },
  {
   "cell_type": "code",
   "execution_count": 15,
   "metadata": {},
   "outputs": [],
   "source": [
    "#ration between test data and train data\n",
    "ratio = len(X_test_raw)/(len(X_train_raw)+ len(X_test_raw))\n",
    "ratio\n",
    "\n",
    "#### holdOut\n",
    "\n",
    "#split tfidf train set\n",
    "from sklearn.model_selection import train_test_split\n",
    "X_train_set, X_validation_set , y_train_set, y_validation_set = train_test_split(X_train_raw, Y_train, test_size = ratio)"
   ]
  },
  {
   "cell_type": "markdown",
   "metadata": {},
   "source": [
    "### 1. Bag of Words (BoW)\n",
    "In this approach, we use the **CountVectorizer** library to separate all the words in the Train corpus (dataset). These words are then used as the 'vectors' or 'features' to represent each instance (Tweet) in `Train` and `Test` datasets. "
   ]
  },
  {
   "cell_type": "code",
   "execution_count": 16,
   "metadata": {},
   "outputs": [
    {
     "name": "stdout",
     "output_type": "stream",
     "text": [
      "Train feature space size (using BoW): (17036, 36182)\n",
      "Test feature space size (using BoW): (4766, 36182)\n"
     ]
    }
   ],
   "source": [
    "from sklearn.feature_extraction.text import CountVectorizer\n",
    "\n",
    "BoW_vectorizer = CountVectorizer()\n",
    "\n",
    "#Build the feature set (vocabulary) and vectorise the Tarin dataset using BoW\n",
    "X_train_BoW = BoW_vectorizer.fit_transform(X_train_set)\n",
    "\n",
    "#Use the feature set (vocabulary) from Train to vectorise the Test dataset \n",
    "X_test_BoW = BoW_vectorizer.transform(X_validation_set)\n",
    "\n",
    "print(\"Train feature space size (using BoW):\",X_train_BoW.shape)\n",
    "print(\"Test feature space size (using BoW):\",X_test_BoW.shape)"
   ]
  },
  {
   "cell_type": "markdown",
   "metadata": {},
   "source": [
    "Now each row is a list of tuples with the vector_id (word_id in the vocabulary) and the number of times it repeated in that given instance (tweet)."
   ]
  },
  {
   "cell_type": "markdown",
   "metadata": {},
   "source": [
    "#### Improvement using ngram"
   ]
  },
  {
   "cell_type": "code",
   "execution_count": 17,
   "metadata": {},
   "outputs": [
    {
     "name": "stdout",
     "output_type": "stream",
     "text": [
      "Train feature space size (using BoW): (17036, 149048)\n",
      "Test feature space size (using BoW): (4766, 149048)\n"
     ]
    }
   ],
   "source": [
    "BoW_vectorizer2 = CountVectorizer(analyzer = \"word\", ngram_range = (2,2))\n",
    "\n",
    "#Build the feature set (vocabulary) and vectorise the Tarin dataset using BoW(ngram = 2)\n",
    "X_train_BoW2 = BoW_vectorizer2.fit_transform(X_train_set)\n",
    "\n",
    "#Use the feature set (vocabulary) from Train to vectorise the Test dataset (ngram = 2)\n",
    "X_test_BoW2 = BoW_vectorizer2.transform(X_validation_set)\n",
    "\n",
    "print(\"Train feature space size (using BoW):\",X_train_BoW2.shape)\n",
    "print(\"Test feature space size (using BoW):\",X_test_BoW2.shape)"
   ]
  },
  {
   "cell_type": "markdown",
   "metadata": {},
   "source": [
    "### 2. TFIDF\n",
    "In this approach, we use the **TfidfVectorizer** library to separate all the words in this corpus (dataset). Same as the BoW approach, these words are then used as the 'vectors' or 'features' to represent each instance (Tweet).\n",
    "\n",
    "However, in this method for each instance the value associated with each 'vector' (word) is not the number of times the word repeated in that tweet, but the TFIDF value of then 'voctor' (word)."
   ]
  },
  {
   "cell_type": "code",
   "execution_count": 18,
   "metadata": {},
   "outputs": [
    {
     "name": "stdout",
     "output_type": "stream",
     "text": [
      "Train feature space size (using TFIDF): (17036, 36182)\n",
      "Test feature space size (using TFIDF): (4766, 36182)\n"
     ]
    }
   ],
   "source": [
    "from sklearn.feature_extraction.text import TfidfVectorizer\n",
    "\n",
    "tfidf_vectorizer = TfidfVectorizer()\n",
    "\n",
    "#Build the feature set (vocabulary) and vectorise the Tarin dataset using TFIDF\n",
    "X_train_tfidf = tfidf_vectorizer.fit_transform(X_train_set)\n",
    "\n",
    "#Use the feature set (vocabulary) from Train to vectorise the Test dataset \n",
    "X_test_tfidf = tfidf_vectorizer.transform(X_validation_set)\n",
    "\n",
    "print(\"Train feature space size (using TFIDF):\",X_train_tfidf.shape)\n",
    "print(\"Test feature space size (using TFIDF):\",X_test_tfidf.shape)\n"
   ]
  },
  {
   "cell_type": "markdown",
   "metadata": {},
   "source": [
    "#### ngrams"
   ]
  },
  {
   "cell_type": "code",
   "execution_count": 19,
   "metadata": {},
   "outputs": [
    {
     "name": "stdout",
     "output_type": "stream",
     "text": [
      "Train feature space size (using TFIDF): (17036, 149048)\n",
      "Test feature space size (using TFIDF): (4766, 149048)\n"
     ]
    }
   ],
   "source": [
    "tfidf_vectorizer = TfidfVectorizer(ngram_range = (2,2))\n",
    "\n",
    "#Build the feature set (vocabulary) and vectorise the Tarin dataset using TFIDF(ngram)\n",
    "X_train_tfidf2 = tfidf_vectorizer.fit_transform(X_train_set)\n",
    "\n",
    "#Use the feature set (vocabulary) from Train to vectorise the Test dataset (ngram)\n",
    "X_test_tfidf2 = tfidf_vectorizer.transform(X_validation_set)\n",
    "\n",
    "print(\"Train feature space size (using TFIDF):\",X_train_tfidf2.shape)\n",
    "print(\"Test feature space size (using TFIDF):\",X_test_tfidf2.shape)"
   ]
  },
  {
   "cell_type": "markdown",
   "metadata": {},
   "source": [
    "### Dimension Selection"
   ]
  },
  {
   "cell_type": "code",
   "execution_count": 20,
   "metadata": {},
   "outputs": [],
   "source": [
    "\n",
    "from sklearn.feature_selection import SelectKBest, chi2, f_classif, mutual_info_classif, VarianceThreshold, f_regression\n"
   ]
  },
  {
   "cell_type": "markdown",
   "metadata": {},
   "source": [
    "#### Select k best features(ch2)"
   ]
  },
  {
   "cell_type": "markdown",
   "metadata": {},
   "source": [
    "##### tfidf(1gram)"
   ]
  },
  {
   "cell_type": "code",
   "execution_count": 21,
   "metadata": {},
   "outputs": [],
   "source": [
    "k_best_tfidf_1gram = SelectKBest(chi2, k=1600)\n",
    "X_ch2_train_tfidf = k_best_tfidf_1gram.fit_transform(X_train_tfidf, y_train_set)\n",
    "X_ch2_test_tfidf =  k_best_tfidf_1gram.transform(X_test_tfidf)\n"
   ]
  },
  {
   "cell_type": "markdown",
   "metadata": {},
   "source": [
    "##### tfidf(2grams)"
   ]
  },
  {
   "cell_type": "code",
   "execution_count": 22,
   "metadata": {},
   "outputs": [],
   "source": [
    "k_best_tfidf_2gram = SelectKBest(chi2, k=1600)"
   ]
  },
  {
   "cell_type": "code",
   "execution_count": 23,
   "metadata": {},
   "outputs": [],
   "source": [
    "X_ch2_train_tfidf2 = k_best_tfidf_2gram.fit_transform(X_train_tfidf2, y_train_set)"
   ]
  },
  {
   "cell_type": "code",
   "execution_count": 24,
   "metadata": {},
   "outputs": [],
   "source": [
    "X_ch2_test_tfidf2 = k_best_tfidf_2gram.transform(X_test_tfidf2)"
   ]
  },
  {
   "cell_type": "markdown",
   "metadata": {},
   "source": [
    "###### BoW(1gram)"
   ]
  },
  {
   "cell_type": "code",
   "execution_count": 25,
   "metadata": {},
   "outputs": [],
   "source": [
    "k_best_BoW_1gram = SelectKBest(chi2, k=1600)\n",
    "X_ch2_train_BoW = k_best_BoW_1gram.fit_transform(X_train_BoW, y_train_set)\n",
    "X_ch2_test_BoW =  k_best_BoW_1gram.transform(X_test_BoW)"
   ]
  },
  {
   "cell_type": "markdown",
   "metadata": {},
   "source": [
    "##### BoW(2gram)"
   ]
  },
  {
   "cell_type": "code",
   "execution_count": 26,
   "metadata": {},
   "outputs": [],
   "source": [
    "k_best_BoW_2gram = SelectKBest(chi2, k=1600)\n",
    "X_ch2_train_BoW2 = k_best_BoW_2gram.fit_transform(X_train_BoW2, y_train_set)\n",
    "X_ch2_test_BoW2 =  k_best_BoW_2gram.transform(X_test_BoW2)"
   ]
  },
  {
   "cell_type": "markdown",
   "metadata": {},
   "source": [
    "#### SelectKBest + F-test"
   ]
  },
  {
   "cell_type": "code",
   "execution_count": 27,
   "metadata": {
    "scrolled": true
   },
   "outputs": [
    {
     "data": {
      "text/plain": [
       "(17036, 1600)"
      ]
     },
     "execution_count": 27,
     "metadata": {},
     "output_type": "execute_result"
    }
   ],
   "source": [
    "\n",
    "X_f_classif_new = SelectKBest(f_classif, k = 1600).fit_transform(X_train_tfidf2, y_train_set)\n",
    "X_f_classif_new.shape"
   ]
  },
  {
   "cell_type": "markdown",
   "metadata": {},
   "source": [
    "#### SelectKBest + MI"
   ]
  },
  {
   "cell_type": "code",
   "execution_count": 28,
   "metadata": {},
   "outputs": [],
   "source": [
    "#X_MI_new = SelectKBest(mutual_info_classif, k = 2000).fit_transform(X_train_tfidf2, y_train_set)\n",
    "#X_MI_new.shape # Some bugs for this cell"
   ]
  },
  {
   "cell_type": "markdown",
   "metadata": {},
   "source": [
    "#### VarianceThreshold"
   ]
  },
  {
   "cell_type": "markdown",
   "metadata": {},
   "source": [
    "##### tfidf(2gram)"
   ]
  },
  {
   "cell_type": "code",
   "execution_count": 29,
   "metadata": {
    "scrolled": true
   },
   "outputs": [
    {
     "name": "stdout",
     "output_type": "stream",
     "text": [
      "(17036, 1292)\n"
     ]
    }
   ],
   "source": [
    "from sklearn.feature_selection import VarianceThreshold\n",
    "selector = VarianceThreshold(threshold = 0.00003)\n",
    "x_var_train_tfidf2 = selector.fit_transform(X_train_tfidf2)\n",
    "print(x_var_train_tfidf2.shape)"
   ]
  },
  {
   "cell_type": "code",
   "execution_count": 30,
   "metadata": {},
   "outputs": [],
   "source": [
    "x_var_valid_tfidf2 = selector.fit_transform(X_test_tfidf2)"
   ]
  },
  {
   "cell_type": "markdown",
   "metadata": {},
   "source": [
    "##### tfidf(1gram)"
   ]
  },
  {
   "cell_type": "code",
   "execution_count": 31,
   "metadata": {},
   "outputs": [
    {
     "name": "stdout",
     "output_type": "stream",
     "text": [
      "(17036, 3252)\n"
     ]
    }
   ],
   "source": [
    "from sklearn.feature_selection import VarianceThreshold\n",
    "selector = VarianceThreshold(threshold = 0.00005)\n",
    "x_var_train_tfidf = selector.fit_transform(X_train_tfidf)\n",
    "print(x_var_train_tfidf.shape)"
   ]
  },
  {
   "cell_type": "code",
   "execution_count": 32,
   "metadata": {},
   "outputs": [],
   "source": [
    "x_var_valid_tfidf = selector.transform(X_test_tfidf)"
   ]
  },
  {
   "cell_type": "markdown",
   "metadata": {},
   "source": [
    "##### BoW (2gram)"
   ]
  },
  {
   "cell_type": "code",
   "execution_count": 33,
   "metadata": {},
   "outputs": [
    {
     "name": "stdout",
     "output_type": "stream",
     "text": [
      "(17036, 1483)\n"
     ]
    }
   ],
   "source": [
    "selector = VarianceThreshold(threshold = 0.0003) # why the variance threshold between BoW and tfidf is different, and how to judge the variance threshold\n",
    "x_var_train_BoW2 = selector.fit_transform(X_train_BoW2)\n",
    "print(x_var_train_BoW2.shape)"
   ]
  },
  {
   "cell_type": "code",
   "execution_count": 34,
   "metadata": {},
   "outputs": [],
   "source": [
    "x_var_valid_BoW2 = selector.fit_transform(X_test_BoW2)"
   ]
  },
  {
   "cell_type": "markdown",
   "metadata": {},
   "source": [
    "##### BoW(1gram)"
   ]
  },
  {
   "cell_type": "code",
   "execution_count": 35,
   "metadata": {
    "scrolled": true
   },
   "outputs": [
    {
     "name": "stdout",
     "output_type": "stream",
     "text": [
      "(17036, 2218)\n"
     ]
    }
   ],
   "source": [
    "selector = VarianceThreshold(threshold = 0.0008) # why the variance threshold between BoW and tfidf is different, and how to judge the variance threshold\n",
    "x_var_train_BoW = selector.fit_transform(X_train_BoW)\n",
    "print(x_var_train_BoW.shape)"
   ]
  },
  {
   "cell_type": "code",
   "execution_count": 36,
   "metadata": {},
   "outputs": [],
   "source": [
    "x_var_valid_BoW = selector.fit_transform(X_test_BoW)"
   ]
  },
  {
   "cell_type": "markdown",
   "metadata": {},
   "source": [
    "#### k-fold cross-validation"
   ]
  },
  {
   "cell_type": "code",
   "execution_count": 37,
   "metadata": {},
   "outputs": [],
   "source": [
    "#length of test cases\n",
    "m = len(X_test_raw)\n",
    "# length of training cases \n",
    "n = len(X_train_raw)\n",
    "n_split = n/m"
   ]
  },
  {
   "cell_type": "code",
   "execution_count": 38,
   "metadata": {},
   "outputs": [
    {
     "data": {
      "text/plain": [
       "3.574684374487621"
      ]
     },
     "execution_count": 38,
     "metadata": {},
     "output_type": "execute_result"
    }
   ],
   "source": [
    "n_split"
   ]
  },
  {
   "cell_type": "code",
   "execution_count": 39,
   "metadata": {},
   "outputs": [],
   "source": [
    "import numpy as np\n",
    "from sklearn.model_selection import KFold\n",
    "kf = KFold(n_splits = int(n_split))"
   ]
  },
  {
   "cell_type": "code",
   "execution_count": 40,
   "metadata": {},
   "outputs": [
    {
     "name": "stdout",
     "output_type": "stream",
     "text": [
      "[ 7268  7269  7270 ... 21799 21800 21801] [   0    1    2 ... 7265 7266 7267]\n",
      "[    0     1     2 ... 21799 21800 21801] [ 7268  7269  7270 ... 14532 14533 14534]\n",
      "[    0     1     2 ... 14532 14533 14534] [14535 14536 14537 ... 21799 21800 21801]\n"
     ]
    }
   ],
   "source": [
    "for train, test in kf.split(X_train_raw):\n",
    "    print(\"%s %s\" % (train, test))"
   ]
  },
  {
   "cell_type": "markdown",
   "metadata": {},
   "source": [
    "### Model Selection"
   ]
  },
  {
   "cell_type": "markdown",
   "metadata": {},
   "source": [
    "#### baseline"
   ]
  },
  {
   "cell_type": "code",
   "execution_count": 41,
   "metadata": {},
   "outputs": [
    {
     "name": "stdout",
     "output_type": "stream",
     "text": [
      "Baseline accuracy is  0.578052874527906\n"
     ]
    }
   ],
   "source": [
    "from sklearn.dummy import DummyClassifier\n",
    "clf = DummyClassifier(strategy = \"most_frequent\")\n",
    "model = clf.fit(X_train_set, y_train_set)\n",
    "print(\"Baseline accuracy is \", model.score(X_validation_set, y_validation_set))"
   ]
  },
  {
   "cell_type": "code",
   "execution_count": 43,
   "metadata": {},
   "outputs": [
    {
     "data": {
      "image/png": "[encoded data removed]",
      "text/plain": [
       "<Figure size 432x288 with 1 Axes>"
      ]
     },
     "metadata": {
      "needs_background": "light"
     },
     "output_type": "display_data"
    }
   ],
   "source": [
    "import matplotlib.pyplot as plt\n",
    "import collections\n",
    "\n",
    "counter = dict(collections.Counter(y_train_set))\n",
    "data = counter.values()\n",
    "label = counter.keys()\n",
    "plt.bar(label, data)\n",
    "plt.title(\"Label ditribution of the Sub-training set\")\n",
    "plt.xlabel(\"label type\")\n",
    "plt.ylabel(\"number of labels\")\n",
    "plt.show()\n"
   ]
  },
  {
   "cell_type": "code",
   "execution_count": 44,
   "metadata": {},
   "outputs": [
    {
     "data": {
      "image/png": "[encoded data removed]",
      "text/plain": [
       "<Figure size 432x288 with 1 Axes>"
      ]
     },
     "metadata": {
      "needs_background": "light"
     },
     "output_type": "display_data"
    }
   ],
   "source": [
    "import matplotlib.pyplot as plt\n",
    "\n",
    "import collections \n",
    "counter = dict(collections.Counter(y_validation_set))\n",
    "data = counter.values()\n",
    "label = counter.keys()\n",
    "plt.bar(label, data)\n",
    "plt.title(\"Label ditribution of the Sub-testing set\")\n",
    "plt.xlabel(\"label type\")\n",
    "plt.ylabel(\"number of labels\")\n",
    "plt.show()"
   ]
  },
  {
   "cell_type": "code",
   "execution_count": 45,
   "metadata": {
    "scrolled": true
   },
   "outputs": [
    {
     "data": {
      "image/png": "[encoded data removed]",
      "text/plain": [
       "<Figure size 432x288 with 1 Axes>"
      ]
     },
     "metadata": {
      "needs_background": "light"
     },
     "output_type": "display_data"
    }
   ],
   "source": [
    "import matplotlib.pyplot as plt\n",
    "import collections \n",
    "counter = dict(collections.Counter(Y_train))\n",
    "data = counter.values()\n",
    "label = counter.keys()\n",
    "plt.bar(label, data)\n",
    "plt.title(\"Label ditribution of the Training dataset\")\n",
    "plt.xlabel(\"label type\")\n",
    "plt.ylabel(\"number of labels\")\n",
    "plt.show()"
   ]
  },
  {
   "cell_type": "markdown",
   "metadata": {},
   "source": [
    "#### Logistic regression"
   ]
  },
  {
   "cell_type": "markdown",
   "metadata": {},
   "source": [
    "##### cross validation BoW"
   ]
  },
  {
   "cell_type": "code",
   "execution_count": 46,
   "metadata": {
    "scrolled": true
   },
   "outputs": [
    {
     "name": "stdout",
     "output_type": "stream",
     "text": [
      "accuracy of cross validation in BoW case 0.6389405707400648\n",
      "Execution time 15.10176396369934\n"
     ]
    }
   ],
   "source": [
    "# Cross Validation in BoW case\n",
    "from sklearn.model_selection import cross_val_score\n",
    "from sklearn.linear_model import LogisticRegression\n",
    "import time\n",
    "from sklearn.metrics import accuracy_score, precision_score, recall_score, f1_score\n",
    "t0 = time.time()\n",
    "lr_acc = cross_val_score(LogisticRegression(random_state = 0, solver = 'lbfgs', max_iter = 10000), X_train_BoW, y_train_set, cv=3)\n",
    "t1 = time.time()-t0\n",
    "print(\"accuracy of cross validation in BoW case\", np.mean(lr_acc))\n",
    "print(\"Execution time\", t1)\n"
   ]
  },
  {
   "cell_type": "markdown",
   "metadata": {},
   "source": [
    "##### BoW holdout"
   ]
  },
  {
   "cell_type": "code",
   "execution_count": 47,
   "metadata": {},
   "outputs": [
    {
     "name": "stdout",
     "output_type": "stream",
     "text": [
      "Execution time 0.006501197814941406\n",
      "accuracy of holdout in BoW case is 0.6529584557280739\n",
      "Macro Precision is  0.6151643974806403\n",
      "Macro Recall is  0.5583983541505342\n",
      "Macro F1 score is  0.5777748496860093\n",
      "Weighted Precision is  0.6429007696831315\n",
      "Weighted Recall is  0.6529584557280739\n",
      "Weighted F1 score is  0.6410717543677024\n"
     ]
    }
   ],
   "source": [
    "#BoW holdout\n",
    "clf = LogisticRegression(random_state = 0, solver = 'lbfgs', max_iter = 10000).fit(X_train_BoW, y_train_set)\n",
    "y_predict = clf.predict(X_test_BoW)\n",
    "t0 = time.time()\n",
    "lr_acc = clf.score(X_test_BoW, y_validation_set)\n",
    "t1 = time.time()-t0\n",
    "print(\"Execution time\", t1)\n",
    "print(\"accuracy of holdout in BoW case is\",lr_acc)\n",
    "precision = precision_score(y_validation_set, y_predict, average = \"macro\")\n",
    "print(\"Macro Precision is \", precision)\n",
    "recall = recall_score(y_validation_set, y_predict, average = \"macro\")\n",
    "print(\"Macro Recall is \", recall)\n",
    "f1 = f1_score(y_validation_set, y_predict, average = \"macro\")\n",
    "print(\"Macro F1 score is \", f1)\n",
    "precision = precision_score(y_validation_set, y_predict, average = \"weighted\")\n",
    "print(\"Weighted Precision is \", precision)\n",
    "recall = recall_score(y_validation_set, y_predict, average = \"weighted\")\n",
    "print(\"Weighted Recall is \", recall)\n",
    "f1 = f1_score(y_validation_set, y_predict, average = \"weighted\")\n",
    "print(\"Weighted F1 score is \", f1)\n"
   ]
  },
  {
   "cell_type": "code",
   "execution_count": 48,
   "metadata": {},
   "outputs": [
    {
     "name": "stderr",
     "output_type": "stream",
     "text": [
      "/Users/graceliu/opt/anaconda3/lib/python3.8/site-packages/sklearn/utils/deprecation.py:87: FutureWarning: Function plot_confusion_matrix is deprecated; Function `plot_confusion_matrix` is deprecated in 1.0 and will be removed in 1.2. Use one of the class methods: ConfusionMatrixDisplay.from_predictions or ConfusionMatrixDisplay.from_estimator.\n",
      "  warnings.warn(msg, category=FutureWarning)\n"
     ]
    },
    {
     "data": {
      "image/png": "[encoded data removed]",
      "text/plain": [
       "<Figure size 432x288 with 2 Axes>"
      ]
     },
     "metadata": {
      "needs_background": "light"
     },
     "output_type": "display_data"
    }
   ],
   "source": [
    "import matplotlib.pyplot as plt\n",
    "\n",
    "from sklearn.metrics import plot_confusion_matrix\n",
    "plot_confusion_matrix(clf, X_test_BoW, y_validation_set, cmap = plt.cm.Blues)\n",
    "plt.show()"
   ]
  },
  {
   "cell_type": "markdown",
   "metadata": {},
   "source": [
    "##### BoW ngrams holdout"
   ]
  },
  {
   "cell_type": "code",
   "execution_count": 49,
   "metadata": {},
   "outputs": [
    {
     "name": "stdout",
     "output_type": "stream",
     "text": [
      "Execution time 0.01701974868774414\n",
      "accuracy of holdout in BoW case 0.6078472513638271\n",
      "Macro Precision is  0.5709988514887444\n",
      "Macro Recall is  0.4101247029570256\n",
      "Macro F1 score is  0.3981798950932311\n",
      "Weighted Precision is  0.5918097461068301\n",
      "Weighted Recall is  0.6078472513638271\n",
      "Weighted F1 score is  0.5330106323589621\n"
     ]
    }
   ],
   "source": [
    "clf = LogisticRegression(random_state = 0, solver = 'lbfgs', max_iter = 10000).fit(X_train_BoW2, y_train_set)\n",
    "y_predict2 = clf.predict(X_test_BoW2)\n",
    "t0 = time.time()\n",
    "lr_acc = clf.score(X_test_BoW2, y_validation_set)\n",
    "t1 = time.time() - t0\n",
    "print(\"Execution time\", t1)\n",
    "print(\"accuracy of holdout in BoW case\", lr_acc)\n",
    "\n",
    "precision = precision_score(y_validation_set, y_predict2, average = \"macro\")\n",
    "print(\"Macro Precision is \", precision)\n",
    "recall = recall_score(y_validation_set, y_predict2, average = \"macro\")\n",
    "print(\"Macro Recall is \", recall)\n",
    "f1 = f1_score(y_validation_set, y_predict2, average = \"macro\")\n",
    "print(\"Macro F1 score is \", f1)\n",
    "precision = precision_score(y_validation_set, y_predict2, average = \"weighted\")\n",
    "print(\"Weighted Precision is \", precision)\n",
    "recall = recall_score(y_validation_set, y_predict2, average = \"weighted\")\n",
    "print(\"Weighted Recall is \", recall)\n",
    "f1 = f1_score(y_validation_set, y_predict2, average = \"weighted\")\n",
    "print(\"Weighted F1 score is \", f1)\n"
   ]
  },
  {
   "cell_type": "code",
   "execution_count": 50,
   "metadata": {},
   "outputs": [
    {
     "name": "stderr",
     "output_type": "stream",
     "text": [
      "/Users/graceliu/opt/anaconda3/lib/python3.8/site-packages/sklearn/utils/deprecation.py:87: FutureWarning: Function plot_confusion_matrix is deprecated; Function `plot_confusion_matrix` is deprecated in 1.0 and will be removed in 1.2. Use one of the class methods: ConfusionMatrixDisplay.from_predictions or ConfusionMatrixDisplay.from_estimator.\n",
      "  warnings.warn(msg, category=FutureWarning)\n"
     ]
    },
    {
     "data": {
      "image/png": "[encoded data removed]",
      "text/plain": [
       "<Figure size 432x288 with 2 Axes>"
      ]
     },
     "metadata": {
      "needs_background": "light"
     },
     "output_type": "display_data"
    }
   ],
   "source": [
    "plot_confusion_matrix(clf, X_test_BoW2, y_validation_set, cmap = plt.cm.Blues)\n",
    "plt.show()"
   ]
  },
  {
   "cell_type": "markdown",
   "metadata": {},
   "source": [
    "##### BoW ngrams cross validation"
   ]
  },
  {
   "cell_type": "code",
   "execution_count": 51,
   "metadata": {
    "scrolled": true
   },
   "outputs": [
    {
     "name": "stdout",
     "output_type": "stream",
     "text": [
      "accuracy of cross validation in BoW case 0.6096505496408032\n",
      "macro recall  0.4010880708310112\n",
      "macro F1  0.3807981231372101\n",
      "macro precision  0.5809770064344765\n",
      "Weighted recall  0.6096505496408032\n",
      "Weighted F1  0.5234699913110038\n",
      "Weighted precision  0.5965862927610149\n"
     ]
    }
   ],
   "source": [
    "# Cross Validation in BoW case(ngrams)\n",
    "t0 = time.time()\n",
    "clf = LogisticRegression(random_state = 0, solver = 'lbfgs', max_iter = 10000)\n",
    "t1 = time.time()-t0\n",
    "lr_acc = cross_val_score(clf, X_train_BoW2,  y_train_set, cv=3)\n",
    "f1_macro = cross_val_score(clf, X_train_BoW2,y_train_set, cv=3, scoring='f1_macro')\n",
    "recall_macro =  cross_val_score(clf, X_train_BoW2,y_train_set, cv=3, scoring='recall_macro')\n",
    "precision_macro = cross_val_score(clf, X_train_BoW2, y_train_set, cv=3, scoring='precision_macro')\n",
    "print(\"accuracy of cross validation in BoW case\", np.mean(lr_acc))\n",
    "print(\"macro recall \", np.mean(recall_macro))\n",
    "print(\"macro F1 \", np.mean(f1_macro))\n",
    "print(\"macro precision \", np.mean(precision_macro))\n",
    "f1_weighted = cross_val_score(clf, X_train_BoW2,y_train_set, cv=3, scoring='f1_weighted')\n",
    "recall_weighted =  cross_val_score(clf, X_train_BoW2,y_train_set, cv=3, scoring='recall_weighted')\n",
    "precision_weighted = cross_val_score(clf, X_train_BoW2,y_train_set, cv=3, scoring='precision_weighted')\n",
    "print(\"Weighted recall \", np.mean(recall_weighted))\n",
    "print(\"Weighted F1 \", np.mean(f1_weighted))\n",
    "print(\"Weighted precision \", np.mean(precision_weighted))"
   ]
  },
  {
   "cell_type": "code",
   "execution_count": 52,
   "metadata": {
    "scrolled": true
   },
   "outputs": [
    {
     "data": {
      "text/plain": [
       "'from sklearn.model_selection import cross_val_predict\\nactual_classes, predicted_classes, _ = cross_val_predict(clf,  X_train_BoW2,y_train_set, 3)\\nmatrix = confusion_matrix(actual_classes, predicted_classes)\\nsns.heatmap(matrix, annot=True,  cmap=\"Blues\", fmt=\"g\")\\nplt.xlabel(\\'Predicted\\'); plt.ylabel(\\'Actual\\'); plt.title(\\'Confusion Matrix\\')\\nplt.show()'"
      ]
     },
     "execution_count": 52,
     "metadata": {},
     "output_type": "execute_result"
    }
   ],
   "source": [
    "\n",
    "'''from sklearn.model_selection import cross_val_predict\n",
    "actual_classes, predicted_classes, _ = cross_val_predict(clf,  X_train_BoW2,y_train_set, 3)\n",
    "matrix = confusion_matrix(actual_classes, predicted_classes)\n",
    "sns.heatmap(matrix, annot=True,  cmap=\"Blues\", fmt=\"g\")\n",
    "plt.xlabel('Predicted'); plt.ylabel('Actual'); plt.title('Confusion Matrix')\n",
    "plt.show()'''"
   ]
  },
  {
   "cell_type": "markdown",
   "metadata": {},
   "source": [
    "##### BoW holdout(dimension reduction) "
   ]
  },
  {
   "cell_type": "code",
   "execution_count": 53,
   "metadata": {},
   "outputs": [],
   "source": [
    "import matplotlib.pyplot as plt"
   ]
  },
  {
   "cell_type": "code",
   "execution_count": 54,
   "metadata": {
    "scrolled": true
   },
   "outputs": [
    {
     "name": "stdout",
     "output_type": "stream",
     "text": [
      "Execution time 0.008695840835571289\n",
      "accuracy of holdout in BoW case(2gram, dimension reduction) 0.6038606798153587\n",
      "Macro Precision is  0.5622521727291777\n",
      "Macro Recall is  0.4199525569601042\n",
      "Macro F1 score is  0.41892541516979964\n",
      "Weighted Precision is  0.5853804115590932\n",
      "Weighted Recall is  0.6038606798153587\n",
      "Weighted F1 score is  0.540270996438918\n"
     ]
    }
   ],
   "source": [
    "#BoW holdout\n",
    "clf = LogisticRegression(random_state = 0, solver = 'lbfgs', max_iter = 10000).fit(X_ch2_train_BoW2, y_train_set)\n",
    "#clf.predict(x_var_valid_BoW2)\n",
    "t0 = time.time()\n",
    "lr_acc = clf.score(X_ch2_test_BoW2, y_validation_set)\n",
    "y_predict2 = clf.predict(X_ch2_test_BoW2)\n",
    "t1 = time.time() - t0\n",
    "print(\"Execution time\", t1)\n",
    "print(\"accuracy of holdout in BoW case(2gram, dimension reduction)\",lr_acc)\n",
    "\n",
    "precision = precision_score(y_validation_set, y_predict2, average = \"macro\")\n",
    "print(\"Macro Precision is \", precision)\n",
    "recall = recall_score(y_validation_set, y_predict2, average = \"macro\")\n",
    "print(\"Macro Recall is \", recall)\n",
    "f1 = f1_score(y_validation_set, y_predict2, average = \"macro\")\n",
    "print(\"Macro F1 score is \", f1)\n",
    "precision = precision_score(y_validation_set, y_predict2, average = \"weighted\")\n",
    "print(\"Weighted Precision is \", precision)\n",
    "recall = recall_score(y_validation_set, y_predict2, average = \"weighted\")\n",
    "print(\"Weighted Recall is \", recall)\n",
    "f1 = f1_score(y_validation_set, y_predict2, average = \"weighted\")\n",
    "print(\"Weighted F1 score is \", f1)\n",
    "\n"
   ]
  },
  {
   "cell_type": "code",
   "execution_count": 55,
   "metadata": {},
   "outputs": [
    {
     "name": "stderr",
     "output_type": "stream",
     "text": [
      "/Users/graceliu/opt/anaconda3/lib/python3.8/site-packages/sklearn/utils/deprecation.py:87: FutureWarning: Function plot_confusion_matrix is deprecated; Function `plot_confusion_matrix` is deprecated in 1.0 and will be removed in 1.2. Use one of the class methods: ConfusionMatrixDisplay.from_predictions or ConfusionMatrixDisplay.from_estimator.\n",
      "  warnings.warn(msg, category=FutureWarning)\n"
     ]
    },
    {
     "data": {
      "image/png": "[encoded data removed]",
      "text/plain": [
       "<Figure size 432x288 with 2 Axes>"
      ]
     },
     "metadata": {
      "needs_background": "light"
     },
     "output_type": "display_data"
    }
   ],
   "source": [
    "plot_confusion_matrix(clf, X_ch2_test_BoW2, y_validation_set, cmap = plt.cm.Blues)\n",
    "plt.show()"
   ]
  },
  {
   "cell_type": "code",
   "execution_count": 56,
   "metadata": {},
   "outputs": [
    {
     "data": {
      "text/plain": [
       "(4766, 2270)"
      ]
     },
     "execution_count": 56,
     "metadata": {},
     "output_type": "execute_result"
    }
   ],
   "source": [
    "x_var_valid_BoW2.shape"
   ]
  },
  {
   "cell_type": "code",
   "execution_count": 57,
   "metadata": {},
   "outputs": [
    {
     "data": {
      "text/plain": [
       "(17036, 1483)"
      ]
     },
     "execution_count": 57,
     "metadata": {},
     "output_type": "execute_result"
    }
   ],
   "source": [
    "x_var_train_BoW2.shape"
   ]
  },
  {
   "cell_type": "markdown",
   "metadata": {},
   "source": [
    "##### BoW cross validation"
   ]
  },
  {
   "cell_type": "code",
   "execution_count": 58,
   "metadata": {},
   "outputs": [
    {
     "name": "stdout",
     "output_type": "stream",
     "text": [
      "accuracy of cross validation in BoW case(2 gram with reduction) 0.6469829263094229\n",
      "accuracy of cross validation in BoW case(1 gram with reduction) 0.6837867825249825\n"
     ]
    }
   ],
   "source": [
    "# Cross Validation in BoW case(ngrams)\n",
    "\n",
    "lr_acc = cross_val_score(LogisticRegression(random_state = 0, solver = 'lbfgs', max_iter = 10000), X_ch2_train_BoW2,  y_train_set, cv=3)\n",
    "\n",
    "print(\"accuracy of cross validation in BoW case(2 gram with reduction)\", np.mean(lr_acc))\n",
    "\n",
    "# Cross Validation in BoW case(1grams)\n",
    "lr_acc = cross_val_score(LogisticRegression(random_state = 0, solver = 'lbfgs', max_iter = 10000), X_ch2_train_BoW,  y_train_set, cv=3)\n",
    "\n",
    "print(\"accuracy of cross validation in BoW case(1 gram with reduction)\", np.mean(lr_acc))"
   ]
  },
  {
   "cell_type": "markdown",
   "metadata": {},
   "source": [
    "##### BoW hold out (1-gram with dim reduction )"
   ]
  },
  {
   "cell_type": "code",
   "execution_count": 59,
   "metadata": {},
   "outputs": [
    {
     "name": "stdout",
     "output_type": "stream",
     "text": [
      "test accuracy of tfidf in holdout case:  0.6636592530423836\n",
      "train accuracy of tfidf in holdout case:  0.7567504108945762\n"
     ]
    }
   ],
   "source": [
    "\n",
    "clf = LogisticRegression(random_state = 0, solver = 'lbfgs', max_iter = 10000).fit(X_ch2_train_BoW, y_train_set)\n",
    "clf.predict(X_ch2_test_BoW)\n",
    "\n",
    "# accuracy of testing data\n",
    "print(\"test accuracy of tfidf in holdout case: \", clf.score(X_ch2_test_BoW,y_validation_set))\n",
    "\n",
    "#accuracy of training data\n",
    "print(\"train accuracy of tfidf in holdout case: \", clf.score(X_ch2_train_BoW, y_train_set))"
   ]
  },
  {
   "cell_type": "markdown",
   "metadata": {},
   "source": [
    "evaluation metrics\n"
   ]
  },
  {
   "cell_type": "code",
   "execution_count": 109,
   "metadata": {},
   "outputs": [
    {
     "name": "stdout",
     "output_type": "stream",
     "text": [
      "Execution time 0.015001058578491211\n",
      "accuracy of holdout in BoW case(2gram, dimension reduction) 0.6636592530423836\n",
      "Macro Precision is  0.6398903579490487\n",
      "Macro Recall is  0.5570438276477185\n",
      "Macro F1 score is  0.5821717659820124\n",
      "Weighted Precision is  0.6568886646339424\n",
      "Weighted Recall is  0.6636592530423836\n",
      "Weighted F1 score is  0.6474527621615017\n"
     ]
    },
    {
     "name": "stderr",
     "output_type": "stream",
     "text": [
      "/Users/graceliu/opt/anaconda3/lib/python3.8/site-packages/sklearn/utils/deprecation.py:87: FutureWarning: Function plot_confusion_matrix is deprecated; Function `plot_confusion_matrix` is deprecated in 1.0 and will be removed in 1.2. Use one of the class methods: ConfusionMatrixDisplay.from_predictions or ConfusionMatrixDisplay.from_estimator.\n",
      "  warnings.warn(msg, category=FutureWarning)\n"
     ]
    },
    {
     "data": {
      "image/png": "[encoded data removed]",
      "text/plain": [
       "<Figure size 432x288 with 2 Axes>"
      ]
     },
     "metadata": {
      "needs_background": "light"
     },
     "output_type": "display_data"
    }
   ],
   "source": [
    "#BoW holdout\n",
    "clf = LogisticRegression(random_state = 0, solver = 'lbfgs', max_iter = 10000).fit(X_ch2_train_BoW, y_train_set)\n",
    "#clf.predict(x_var_valid_BoW2)\n",
    "t0 = time.time()\n",
    "lr_acc = clf.score(X_ch2_test_BoW, y_validation_set)\n",
    "y_predict2 = clf.predict(X_ch2_test_BoW)\n",
    "t1 = time.time() - t0\n",
    "print(\"Execution time\", t1)\n",
    "print(\"accuracy of holdout in BoW case(2gram, dimension reduction)\",lr_acc)\n",
    "\n",
    "precision = precision_score(y_validation_set, y_predict2, average = \"macro\")\n",
    "print(\"Macro Precision is \", precision)\n",
    "recall = recall_score(y_validation_set, y_predict2, average = \"macro\")\n",
    "print(\"Macro Recall is \", recall)\n",
    "f1 = f1_score(y_validation_set, y_predict2, average = \"macro\")\n",
    "print(\"Macro F1 score is \", f1)\n",
    "precision = precision_score(y_validation_set, y_predict2, average = \"weighted\")\n",
    "print(\"Weighted Precision is \", precision)\n",
    "recall = recall_score(y_validation_set, y_predict2, average = \"weighted\")\n",
    "print(\"Weighted Recall is \", recall)\n",
    "f1 = f1_score(y_validation_set, y_predict2, average = \"weighted\")\n",
    "print(\"Weighted F1 score is \", f1)\n",
    "\n",
    "plot_confusion_matrix(clf, X_ch2_test_BoW, y_validation_set, cmap = plt.cm.Blues)\n",
    "plt.show()"
   ]
  },
  {
   "cell_type": "markdown",
   "metadata": {},
   "source": [
    "##### tfidf holdout"
   ]
  },
  {
   "cell_type": "code",
   "execution_count": 60,
   "metadata": {
    "scrolled": true
   },
   "outputs": [
    {
     "name": "stdout",
     "output_type": "stream",
     "text": [
      "test accuracy of tfidf in holdout case:  0.6592530423835501\n",
      "train accuracy of tfidf in holdout case:  0.7991899506926509\n"
     ]
    }
   ],
   "source": [
    "#tfidf case in logistic regression model (hold out)\n",
    "from sklearn.linear_model import LogisticRegression\n",
    "clf = LogisticRegression(random_state = 0, solver = 'lbfgs', max_iter = 10000).fit(X_train_tfidf, y_train_set)\n",
    "clf.predict(X_test_tfidf)\n",
    "\n",
    "# accuracy of testing data\n",
    "print(\"test accuracy of tfidf in holdout case: \", clf.score(X_test_tfidf,y_validation_set))\n",
    "\n",
    "#accuracy of training data\n",
    "print(\"train accuracy of tfidf in holdout case: \", clf.score(X_train_tfidf, y_train_set))"
   ]
  },
  {
   "cell_type": "markdown",
   "metadata": {},
   "source": [
    "##### tfidf 1-gram no dimension reduction cross validation "
   ]
  },
  {
   "cell_type": "code",
   "execution_count": 61,
   "metadata": {},
   "outputs": [
    {
     "name": "stdout",
     "output_type": "stream",
     "text": [
      "accuracy of cross validation in tfidf case 0.6486847834633293\n"
     ]
    }
   ],
   "source": [
    "# cross validation in tfidf case\n",
    "from sklearn.model_selection import cross_val_score\n",
    "lr_acc = cross_val_score(LogisticRegression(random_state = 0, solver = 'lbfgs', max_iter = 10000), X_train_tfidf, y_train_set, cv=3)\n",
    "\n",
    "print(\"accuracy of cross validation in tfidf case\",np.mean(lr_acc))"
   ]
  },
  {
   "cell_type": "markdown",
   "metadata": {},
   "source": [
    "##### 1-gram with dimension reduction cross validation tfidf"
   ]
  },
  {
   "cell_type": "code",
   "execution_count": 62,
   "metadata": {},
   "outputs": [
    {
     "name": "stdout",
     "output_type": "stream",
     "text": [
      "accuracy of cross validation in tfidf case 0.6581942130674999\n"
     ]
    }
   ],
   "source": [
    "# cross validation in tfidf case\n",
    "from sklearn.model_selection import cross_val_score\n",
    "lr_acc = cross_val_score(LogisticRegression(random_state = 0, solver = 'lbfgs', max_iter = 10000), X_ch2_train_tfidf, y_train_set, cv=3)\n",
    "\n",
    "print(\"accuracy of cross validation in tfidf case\",np.mean(lr_acc))"
   ]
  },
  {
   "cell_type": "markdown",
   "metadata": {},
   "source": [
    "##### 2-gram holdout(without dimension reduction)"
   ]
  },
  {
   "cell_type": "code",
   "execution_count": 63,
   "metadata": {},
   "outputs": [
    {
     "name": "stdout",
     "output_type": "stream",
     "text": [
      "test accuracy of tfidf2 in holdout case:  0.5992446496013428\n",
      "train accuracy of tfidf2 in holdout case:  0.7967832824606715\n"
     ]
    }
   ],
   "source": [
    "clf = LogisticRegression(random_state = 0, solver = 'lbfgs', max_iter = 10000).fit(X_train_tfidf2, y_train_set)\n",
    "clf.predict(X_test_tfidf2)\n",
    "\n",
    "# accuracy of testing data\n",
    "print(\"test accuracy of tfidf2 in holdout case: \", clf.score(X_test_tfidf2,y_validation_set))\n",
    "\n",
    "#accuracy of training data\n",
    "print(\"train accuracy of tfidf2 in holdout case: \", clf.score(X_train_tfidf2, y_train_set))\n",
    "\n",
    "\n"
   ]
  },
  {
   "cell_type": "markdown",
   "metadata": {},
   "source": [
    "##### 1gram with dimension reduction"
   ]
  },
  {
   "cell_type": "code",
   "execution_count": 64,
   "metadata": {},
   "outputs": [
    {
     "name": "stdout",
     "output_type": "stream",
     "text": [
      "test accuracy of tfidf3 in holdout case:  0.6621905161561058\n",
      "Execution time 0.0038220882415771484\n",
      "train accuracy of tfidf3 in holdout case:  0.6999295609297957\n",
      "accuracy of holdout in BoW case(2gram, dimension reduction) [0.66173622 0.65803839 0.65480803]\n",
      "Macro Precision is  0.6510353500167957\n",
      "Macro Recall is  0.5270464706379451\n",
      "Macro F1 score is  0.5534941717404013\n",
      "Weighted Precision is  0.6589490979786168\n",
      "Weighted Recall is  0.6621905161561058\n",
      "Weighted F1 score is  0.6347774780242773\n"
     ]
    }
   ],
   "source": [
    "clf = LogisticRegression(random_state = 0, solver = 'lbfgs', max_iter = 10000).fit(X_ch2_train_tfidf, y_train_set)\n",
    "\n",
    "y_predict2 = clf.predict(X_ch2_test_tfidf)\n",
    "t0 = time.time()\n",
    "# accuracy of testing data\n",
    "print(\"test accuracy of tfidf3 in holdout case: \", clf.score(X_ch2_test_tfidf,y_validation_set))\n",
    "\n",
    "t1 = time.time() - t0\n",
    "print(\"Execution time\", t1)\n",
    "#accuracy of training data\n",
    "print(\"train accuracy of tfidf3 in holdout case: \", clf.score(X_ch2_train_tfidf, y_train_set))\n",
    "\n",
    "\n",
    "print(\"accuracy of holdout in BoW case(2gram, dimension reduction)\",lr_acc)\n",
    "\n",
    "precision = precision_score(y_validation_set, y_predict2, average = \"macro\")\n",
    "print(\"Macro Precision is \", precision)\n",
    "recall = recall_score(y_validation_set, y_predict2, average = \"macro\")\n",
    "print(\"Macro Recall is \", recall)\n",
    "f1 = f1_score(y_validation_set, y_predict2, average = \"macro\")\n",
    "print(\"Macro F1 score is \", f1)\n",
    "precision = precision_score(y_validation_set, y_predict2, average = \"weighted\")\n",
    "print(\"Weighted Precision is \", precision)\n",
    "recall = recall_score(y_validation_set, y_predict2, average = \"weighted\")\n",
    "print(\"Weighted Recall is \", recall)\n",
    "f1 = f1_score(y_validation_set, y_predict2, average = \"weighted\")\n",
    "print(\"Weighted F1 score is \", f1)"
   ]
  },
  {
   "cell_type": "markdown",
   "metadata": {},
   "source": [
    "##### 2-gram with dimension reduction cross validation \n"
   ]
  },
  {
   "cell_type": "code",
   "execution_count": 65,
   "metadata": {},
   "outputs": [
    {
     "name": "stdout",
     "output_type": "stream",
     "text": [
      "accuracy of cross validation in tfidf case 0.6007279744603271\n"
     ]
    }
   ],
   "source": [
    "\n",
    "lr_acc = cross_val_score(LogisticRegression(random_state = 0, solver = 'lbfgs', max_iter = 10000), X_ch2_train_tfidf2, y_train_set, cv=3)\n",
    "\n",
    "print(\"accuracy of cross validation in tfidf case\",np.mean(lr_acc))"
   ]
  },
  {
   "cell_type": "markdown",
   "metadata": {},
   "source": [
    "##### 2-gram with dimension reduction holdout\n"
   ]
  },
  {
   "cell_type": "code",
   "execution_count": 66,
   "metadata": {},
   "outputs": [
    {
     "name": "stdout",
     "output_type": "stream",
     "text": [
      "test accuracy of tfidf in holdout case:  0.5965169953839697\n",
      "Execution time 0.0034029483795166016\n",
      "train accuracy of tfidf in holdout case:  0.6166940596384127\n"
     ]
    }
   ],
   "source": [
    "clf = LogisticRegression(random_state = 0, solver = 'lbfgs', max_iter = 10000).fit(X_ch2_train_tfidf2, y_train_set)\n",
    "\n",
    "y_predict2 = clf.predict(X_ch2_test_tfidf2)\n",
    "t0 = time.time()\n",
    "# accuracy of testing data\n",
    "print(\"test accuracy of tfidf in holdout case: \", clf.score(X_ch2_test_tfidf2,y_validation_set))\n",
    "\n",
    "t1 = time.time() - t0\n",
    "print(\"Execution time\", t1)\n",
    "#accuracy of training data\n",
    "print(\"train accuracy of tfidf in holdout case: \", clf.score(X_ch2_train_tfidf2, y_train_set))\n"
   ]
  },
  {
   "cell_type": "markdown",
   "metadata": {},
   "source": [
    "#### SVM"
   ]
  },
  {
   "cell_type": "markdown",
   "metadata": {},
   "source": [
    "##### BoW holdout"
   ]
  },
  {
   "cell_type": "code",
   "execution_count": null,
   "metadata": {},
   "outputs": [],
   "source": []
  },
  {
   "cell_type": "code",
   "execution_count": 67,
   "metadata": {},
   "outputs": [
    {
     "name": "stdout",
     "output_type": "stream",
     "text": [
      "BoW holdout\n",
      "\n",
      "execution time:  1016.4233191013336\n",
      "training accuracy:  0.8105189011505048\n",
      "testing accuracy 0.6615610574905582\n",
      "Macro Precision is  0.5658424529282606\n",
      "Macro Recall is  0.4034395329634584\n",
      "Macro F1 score is  0.39366246075364836\n",
      "Weighted Precision is  0.5804281820063512\n",
      "Weighted Recall is  0.5965169953839697\n",
      "Weighted F1 score is  0.523041436355039\n"
     ]
    }
   ],
   "source": [
    "### BoW holdout\n",
    "from sklearn.svm import SVC\n",
    "t0 = time.time()\n",
    "clf = SVC(kernel = \"linear\", C = 0.1).fit(X_train_BoW, y_train_set)\n",
    "y_train_BoW_predicted = clf.predict(X_train_BoW)\n",
    "t1 = time.time()-t0\n",
    "print(\"BoW holdout\\n\")\n",
    "print(\"execution time: \", t1)\n",
    "print(\"training accuracy: \", np.mean(y_train_BoW_predicted == y_train_set))\n",
    "\n",
    "y_predicted2 = clf.predict(X_test_BoW)\n",
    "\n",
    "print(\"testing accuracy\", clf.score(X_test_BoW, y_validation_set))\n",
    "\n",
    "precision = precision_score(y_validation_set, y_predict2, average = \"macro\")\n",
    "print(\"Macro Precision is \", precision)\n",
    "recall = recall_score(y_validation_set, y_predict2, average = \"macro\")\n",
    "print(\"Macro Recall is \", recall)\n",
    "f1 = f1_score(y_validation_set, y_predict2, average = \"macro\")\n",
    "print(\"Macro F1 score is \", f1)\n",
    "precision = precision_score(y_validation_set, y_predict2, average = \"weighted\")\n",
    "print(\"Weighted Precision is \", precision)\n",
    "recall = recall_score(y_validation_set, y_predict2, average = \"weighted\")\n",
    "print(\"Weighted Recall is \", recall)\n",
    "f1 = f1_score(y_validation_set, y_predict2, average = \"weighted\")\n",
    "print(\"Weighted F1 score is \", f1)\n",
    "\n"
   ]
  },
  {
   "cell_type": "markdown",
   "metadata": {},
   "source": [
    "##### tfidf holdout"
   ]
  },
  {
   "cell_type": "code",
   "execution_count": 68,
   "metadata": {},
   "outputs": [
    {
     "name": "stdout",
     "output_type": "stream",
     "text": [
      "Tfidf holdout\n",
      "training accuracy:  0.6048368161540267\n",
      "testing accuracy 0.5958875367184222\n"
     ]
    }
   ],
   "source": [
    "### tfidf holdout\n",
    "clf = SVC(kernel = \"linear\", C = 0.1).fit(X_train_tfidf, y_train_set)\n",
    "y_train_tfidf_predicted = clf.predict(X_train_tfidf)\n",
    "print(\"Tfidf holdout\")\n",
    "print(\"training accuracy: \", np.mean(y_train_tfidf_predicted == y_train_set))\n",
    "\n",
    "y_valid_tfidf_predicted = clf.predict(X_test_tfidf)\n",
    "\n",
    "print(\"testing accuracy\", clf.score(X_test_tfidf, y_validation_set))"
   ]
  },
  {
   "cell_type": "markdown",
   "metadata": {},
   "source": [
    "##### BoW Validation"
   ]
  },
  {
   "cell_type": "code",
   "execution_count": 69,
   "metadata": {},
   "outputs": [
    {
     "name": "stdout",
     "output_type": "stream",
     "text": [
      "BoW cross validation\n",
      "accuracy:  0.6581352485152231\n"
     ]
    }
   ],
   "source": [
    "### BoW cross validation\n",
    "svm_BoW_acc = cross_val_score(SVC(kernel = \"linear\", C = 0.1), X_train_BoW, y_train_set, cv=3)\n",
    "print(\"BoW cross validation\")\n",
    "print(\"accuracy: \", np.mean(svm_BoW_acc))"
   ]
  },
  {
   "cell_type": "markdown",
   "metadata": {},
   "source": [
    "##### tfidf cross validation"
   ]
  },
  {
   "cell_type": "code",
   "execution_count": 70,
   "metadata": {},
   "outputs": [
    {
     "name": "stdout",
     "output_type": "stream",
     "text": [
      "tfidf cross validation\n",
      "accuracy:  0.5905728912786486\n"
     ]
    }
   ],
   "source": [
    "### tfidf cross validation\n",
    "svm_tfidf_acc = cross_val_score(SVC(kernel = \"linear\", C = 0.1), X_train_tfidf, y_train_set, cv=3)\n",
    "print(\"tfidf cross validation\")\n",
    "print(\"accuracy: \", np.mean(svm_tfidf_acc))"
   ]
  },
  {
   "cell_type": "markdown",
   "metadata": {},
   "source": [
    "##### tfidf holdout(ngrams)"
   ]
  },
  {
   "cell_type": "code",
   "execution_count": 71,
   "metadata": {},
   "outputs": [
    {
     "name": "stdout",
     "output_type": "stream",
     "text": [
      "Tfidf holdout\n",
      "training accuracy:  0.5847029819206386\n",
      "testing accuracy 0.5826689047419219\n"
     ]
    }
   ],
   "source": [
    "clf = SVC(kernel = \"linear\", C = 0.1).fit(X_train_tfidf2, y_train_set)\n",
    "y_train_tfidf_predicted = clf.predict(X_train_tfidf2)\n",
    "print(\"Tfidf holdout\")\n",
    "print(\"training accuracy: \", np.mean(y_train_tfidf_predicted == y_train_set))\n",
    "\n",
    "y_valid_tfidf_predicted = clf.predict(X_test_tfidf2)\n",
    "\n",
    "print(\"testing accuracy\", clf.score(X_test_tfidf2, y_validation_set))"
   ]
  },
  {
   "cell_type": "markdown",
   "metadata": {},
   "source": [
    "##### tfidf cross validation(ngrams)"
   ]
  },
  {
   "cell_type": "code",
   "execution_count": 72,
   "metadata": {},
   "outputs": [
    {
     "name": "stdout",
     "output_type": "stream",
     "text": [
      "tfidf cross validation\n",
      "accuracy:  0.5814745285435675\n"
     ]
    }
   ],
   "source": [
    "### tfidf cross validation\n",
    "svm_tfidf_acc = cross_val_score(SVC(kernel = \"linear\", C = 0.1), X_train_tfidf2, y_train_set, cv=3)\n",
    "print(\"tfidf cross validation\")\n",
    "print(\"accuracy: \", np.mean(svm_tfidf_acc))"
   ]
  },
  {
   "cell_type": "markdown",
   "metadata": {},
   "source": [
    "##### tfidf cross validation(1-gram with dimension reduction)"
   ]
  },
  {
   "cell_type": "code",
   "execution_count": 73,
   "metadata": {},
   "outputs": [
    {
     "name": "stdout",
     "output_type": "stream",
     "text": [
      "tfidf cross validation\n",
      "accuracy:  0.5889880225255341\n"
     ]
    }
   ],
   "source": [
    "### tfidf cross validation\n",
    "svm_tfidf_acc = cross_val_score(SVC(kernel = \"linear\", C = 0.1), X_ch2_train_tfidf, y_train_set, cv=3)\n",
    "print(\"tfidf cross validation\")\n",
    "print(\"accuracy: \", np.mean(svm_tfidf_acc))"
   ]
  },
  {
   "cell_type": "markdown",
   "metadata": {},
   "source": [
    "##### tfidf holdout(1-gram with dimension reduction)"
   ]
  },
  {
   "cell_type": "code",
   "execution_count": 74,
   "metadata": {},
   "outputs": [
    {
     "name": "stdout",
     "output_type": "stream",
     "text": [
      "Tfidf holdout\n",
      "training accuracy:  0.598966893637004\n",
      "testing accuracy 0.5935795216114141\n"
     ]
    }
   ],
   "source": [
    "clf = SVC(kernel = \"linear\", C = 0.1).fit(X_ch2_train_tfidf, y_train_set)\n",
    "y_train_tfidf_predicted = clf.predict(X_ch2_train_tfidf)\n",
    "print(\"Tfidf holdout\")\n",
    "print(\"training accuracy: \", np.mean(y_train_tfidf_predicted == y_train_set))\n",
    "\n",
    "y_valid_tfidf_predicted = clf.predict(X_ch2_test_tfidf)\n",
    "\n",
    "print(\"testing accuracy\", clf.score(X_ch2_test_tfidf, y_validation_set))"
   ]
  },
  {
   "cell_type": "markdown",
   "metadata": {},
   "source": [
    "##### tfidf cross validation(2-gram with dimension reduction)"
   ]
  },
  {
   "cell_type": "code",
   "execution_count": 75,
   "metadata": {},
   "outputs": [
    {
     "name": "stdout",
     "output_type": "stream",
     "text": [
      "tfidf cross validation\n",
      "accuracy:  0.581415832763794\n"
     ]
    }
   ],
   "source": [
    "### tfidf cross validation\n",
    "svm_tfidf_acc = cross_val_score(SVC(kernel = \"linear\", C = 0.1), X_ch2_train_tfidf2, y_train_set, cv=3)\n",
    "print(\"tfidf cross validation\")\n",
    "print(\"accuracy: \", np.mean(svm_tfidf_acc))"
   ]
  },
  {
   "cell_type": "markdown",
   "metadata": {},
   "source": [
    "##### tfidf holdout(2-gram with dimension reduction)"
   ]
  },
  {
   "cell_type": "markdown",
   "metadata": {},
   "source": [
    "##### BoW holdout(ngram)"
   ]
  },
  {
   "cell_type": "code",
   "execution_count": 76,
   "metadata": {},
   "outputs": [
    {
     "name": "stdout",
     "output_type": "stream",
     "text": [
      "BoW holdout\n",
      "\n",
      "training accuracy:  0.9441770368631134\n",
      "testing accuracy 0.6032312211498112\n"
     ]
    }
   ],
   "source": [
    "\n",
    "clf = SVC(kernel = \"linear\", C = 0.1).fit(X_train_BoW2, y_train_set)\n",
    "y_train_BoW_predicted = clf.predict(X_train_BoW2)\n",
    "print(\"BoW holdout\\n\")\n",
    "print(\"training accuracy: \", np.mean(y_train_BoW_predicted == y_train_set))\n",
    "\n",
    "y_valid_BoW_predicted = clf.predict(X_test_BoW2)\n",
    "\n",
    "print(\"testing accuracy\", clf.score(X_test_BoW2, y_validation_set))"
   ]
  },
  {
   "cell_type": "markdown",
   "metadata": {},
   "source": [
    "##### BoW cross validation(ngrams)"
   ]
  },
  {
   "cell_type": "code",
   "execution_count": 77,
   "metadata": {},
   "outputs": [
    {
     "name": "stdout",
     "output_type": "stream",
     "text": [
      "BoW cross validation\n",
      "accuracy:  0.6078307840571512\n"
     ]
    }
   ],
   "source": [
    "### BoW cross validation\n",
    "svm_BoW_acc = cross_val_score(SVC(kernel = \"linear\", C = 0.1), X_train_BoW2,y_train_set, cv=3)\n",
    "print(\"BoW cross validation\")\n",
    "print(\"accuracy: \", np.mean(svm_BoW_acc))"
   ]
  },
  {
   "cell_type": "markdown",
   "metadata": {},
   "source": [
    "##### 1-gram BoW hold out with dimension reduction"
   ]
  },
  {
   "cell_type": "code",
   "execution_count": 78,
   "metadata": {},
   "outputs": [
    {
     "name": "stdout",
     "output_type": "stream",
     "text": [
      "BoW holdout\n",
      "\n",
      "training accuracy:  0.6974054942474759\n",
      "testing accuracy 0.653797733948804\n"
     ]
    }
   ],
   "source": [
    "clf = SVC(kernel = \"linear\", C = 0.1).fit(X_ch2_train_BoW, y_train_set)\n",
    "y_train_BoW_predicted = clf.predict(X_ch2_train_BoW)\n",
    "print(\"BoW holdout\\n\")\n",
    "print(\"training accuracy: \", np.mean(y_train_BoW_predicted == y_train_set))\n",
    "\n",
    "y_valid_BoW_predicted = clf.predict(X_ch2_test_BoW)\n",
    "\n",
    "print(\"testing accuracy\", clf.score(X_ch2_test_BoW, y_validation_set))"
   ]
  },
  {
   "cell_type": "markdown",
   "metadata": {},
   "source": [
    "##### 2-gram BoW cross validation with dimension reduction "
   ]
  },
  {
   "cell_type": "code",
   "execution_count": 79,
   "metadata": {},
   "outputs": [
    {
     "name": "stdout",
     "output_type": "stream",
     "text": [
      "BoW cross validation\n",
      "accuracy:  0.60389777399098\n"
     ]
    }
   ],
   "source": [
    "### BoW cross validation\n",
    "svm_BoW_acc = cross_val_score(SVC(kernel = \"linear\", C = 0.1),X_ch2_train_BoW2,y_train_set, cv=3)\n",
    "print(\"BoW cross validation\")\n",
    "print(\"accuracy: \", np.mean(svm_BoW_acc))"
   ]
  },
  {
   "cell_type": "markdown",
   "metadata": {},
   "source": [
    "##### 2-gram BoW hold out with dimension reduction"
   ]
  },
  {
   "cell_type": "code",
   "execution_count": 80,
   "metadata": {},
   "outputs": [
    {
     "name": "stdout",
     "output_type": "stream",
     "text": [
      "BoW holdout\n",
      "\n",
      "training accuracy:  0.6168114580887533\n",
      "testing accuracy 0.5990348300461603\n"
     ]
    }
   ],
   "source": [
    "clf = SVC(kernel = \"linear\", C = 0.1).fit(X_ch2_train_BoW2, y_train_set)\n",
    "y_train_BoW_predicted = clf.predict(X_ch2_train_BoW2)\n",
    "print(\"BoW holdout\\n\")\n",
    "print(\"training accuracy: \", np.mean(y_train_BoW_predicted == y_train_set))\n",
    "\n",
    "y_valid_BoW_predicted = clf.predict(X_ch2_test_BoW2)\n",
    "\n",
    "print(\"testing accuracy\", clf.score(X_ch2_test_BoW2, y_validation_set))"
   ]
  },
  {
   "cell_type": "code",
   "execution_count": 81,
   "metadata": {},
   "outputs": [
    {
     "data": {
      "text/plain": [
       "\"from sklearn.model_selection import GridSearchCV\\nparameters = {'kernel': ('linear', 'rbf'), 'C': [0.01, 0.1, 1, 10]}\\ngrid_search_svc = GridSearchCV(SVC(), parameters,refit = True)\\ngrid_search_svc.fit(X_train_BoW,y_train_set)\""
      ]
     },
     "execution_count": 81,
     "metadata": {},
     "output_type": "execute_result"
    }
   ],
   "source": [
    "\n",
    "'''from sklearn.model_selection import GridSearchCV\n",
    "parameters = {'kernel': ('linear', 'rbf'), 'C': [0.01, 0.1, 1, 10]}\n",
    "grid_search_svc = GridSearchCV(SVC(), parameters,refit = True)\n",
    "grid_search_svc.fit(X_train_BoW,y_train_set)'''"
   ]
  },
  {
   "cell_type": "code",
   "execution_count": 82,
   "metadata": {},
   "outputs": [
    {
     "data": {
      "text/plain": [
       "'grid_search_svc.cv_results_.keys()'"
      ]
     },
     "execution_count": 82,
     "metadata": {},
     "output_type": "execute_result"
    }
   ],
   "source": [
    "'''grid_search_svc.cv_results_.keys()'''"
   ]
  },
  {
   "cell_type": "code",
   "execution_count": 83,
   "metadata": {},
   "outputs": [
    {
     "data": {
      "text/plain": [
       "'grid_search_svc.best_estimator_'"
      ]
     },
     "execution_count": 83,
     "metadata": {},
     "output_type": "execute_result"
    }
   ],
   "source": [
    "'''grid_search_svc.best_estimator_'''"
   ]
  },
  {
   "cell_type": "markdown",
   "metadata": {},
   "source": [
    "#### Random Forest"
   ]
  },
  {
   "cell_type": "code",
   "execution_count": 84,
   "metadata": {},
   "outputs": [],
   "source": [
    "from sklearn.ensemble import RandomForestClassifier\n",
    "## grid search\n",
    "grid_param = {\n",
    "    \"n_estimators\": [90, 100, 115, 130],\n",
    "    \"criterion\": ['gini', 'entropy'],\n",
    "    \"max_depth\": range(2, 20, 1),\n",
    "    \"min_samples_leaf\": range(1, 10, 1),\n",
    "    \"min_samples_split\": range(2, 10, 1),\n",
    "    \"max_features\": ['auto', 'log2']\n",
    "}"
   ]
  },
  {
   "cell_type": "code",
   "execution_count": 85,
   "metadata": {},
   "outputs": [],
   "source": [
    "### BoW crossValidation\n",
    "max = 0\n",
    "for curr_max_depth in range(2, 20, 1):\n",
    "    svm_BoW_acc = cross_val_score (RandomForestClassifier(max_depth = curr_max_depth, random_state = 0), X_train_BoW, y_train_set, cv=3)\n",
    "   \n",
    "    if max < np.mean(svm_BoW_acc):\n",
    "        max_depth = curr_max_depth\n",
    "        max = np.mean(svm_BoW_acc)\n",
    "    "
   ]
  },
  {
   "cell_type": "code",
   "execution_count": 86,
   "metadata": {},
   "outputs": [],
   "source": [
    "max_acc = 0\n",
    "for curr_min_samples_leaf in range(1, 10,1):\n",
    "    curr_acc = cross_val_score (RandomForestClassifier(max_depth = 18, random_state = 0, min_samples_leaf = curr_min_samples_leaf),\n",
    "                                     X_train_BoW, y_train_set, cv=3)\n",
    "    curr_acc = np.mean(curr_acc)\n",
    "    if  curr_acc > max_acc:\n",
    "        max_acc = curr_acc \n",
    "        min_samples_leaf = curr_min_samples_leaf\n",
    "  "
   ]
  },
  {
   "cell_type": "code",
   "execution_count": 87,
   "metadata": {
    "scrolled": false
   },
   "outputs": [],
   "source": [
    "max_acc = 0\n",
    "for curr_min_samples_split in range(2, 20,2):\n",
    "    curr_acc = cross_val_score (RandomForestClassifier(max_depth = 18, random_state = 0, min_samples_leaf = 1, min_samples_split=curr_min_samples_split),\n",
    "                                     X_train_BoW, y_train_set, cv=3)\n",
    "    curr_acc = np.mean(curr_acc)\n",
    "    if  curr_acc > max_acc:\n",
    "        max_acc = curr_acc \n",
    "        min_samples_split = curr_min_samples_split"
   ]
  },
  {
   "cell_type": "code",
   "execution_count": 88,
   "metadata": {
    "scrolled": true
   },
   "outputs": [
    {
     "data": {
      "text/plain": [
       "1"
      ]
     },
     "execution_count": 88,
     "metadata": {},
     "output_type": "execute_result"
    }
   ],
   "source": [
    "min_samples_leaf"
   ]
  },
  {
   "cell_type": "code",
   "execution_count": 89,
   "metadata": {},
   "outputs": [],
   "source": [
    "from sklearn.model_selection import GridSearchCV\n",
    "grid_search = GridSearchCV(estimator =RandomForestClassifier(), param_grid = grid_param, cv = 3, n_jobs = -1, verbose = 3)"
   ]
  },
  {
   "cell_type": "code",
   "execution_count": null,
   "metadata": {
    "scrolled": true
   },
   "outputs": [],
   "source": [
    "grid_search.fit(X_train_BoW, y_train_set)"
   ]
  },
  {
   "cell_type": "code",
   "execution_count": null,
   "metadata": {},
   "outputs": [],
   "source": [
    "grid_search.best_score_"
   ]
  },
  {
   "cell_type": "code",
   "execution_count": null,
   "metadata": {},
   "outputs": [],
   "source": [
    "grid_search.best_params_"
   ]
  },
  {
   "cell_type": "code",
   "execution_count": 91,
   "metadata": {},
   "outputs": [],
   "source": [
    "max_depth = 18\n",
    "min_samples_leaf = 1\n",
    "min_samples_split = 2"
   ]
  },
  {
   "cell_type": "code",
   "execution_count": 92,
   "metadata": {},
   "outputs": [
    {
     "name": "stdout",
     "output_type": "stream",
     "text": [
      "BoW holdout\n",
      "training accuracy 0.5830594036158723\n",
      "testing accuracy:  0.5784725136382711\n"
     ]
    }
   ],
   "source": [
    "### BoW holdout 1-gram no dim reduction \n",
    "\n",
    "clf = RandomForestClassifier( random_state = 0, criterion= 'gini', max_features= 'auto', n_estimators= 90, \n",
    "                             min_samples_leaf = min_samples_leaf, max_depth = max_depth, min_samples_split = min_samples_split)\n",
    "clf.fit(X_train_BoW,y_train_set)\n",
    "clf.predict(X_test_BoW)\n",
    "print(\"BoW holdout\")\n",
    "print(\"training accuracy\", clf.score(X_train_BoW, y_train_set))\n",
    "print(\"testing accuracy: \", clf.score(X_test_BoW, y_validation_set))"
   ]
  },
  {
   "cell_type": "code",
   "execution_count": 93,
   "metadata": {},
   "outputs": [
    {
     "name": "stdout",
     "output_type": "stream",
     "text": [
      "tfidf holdout\n",
      "training accuracy 0.5828246067151913\n",
      "testing accuracy:  0.5782626940830885\n"
     ]
    }
   ],
   "source": [
    "### tfidf holdout 1-gram no dim reduction\n",
    "clf = RandomForestClassifier(random_state = 0, criterion= 'gini', max_features= 'auto', n_estimators= 90,\n",
    "                            min_samples_leaf = min_samples_leaf, max_depth = max_depth, min_samples_split = min_samples_split)\n",
    "clf.fit(X_train_tfidf, y_train_set)\n",
    "clf.predict(X_test_tfidf)\n",
    "print(\"tfidf holdout\")\n",
    "print(\"training accuracy\", clf.score(X_train_tfidf, y_train_set))\n",
    "print(\"testing accuracy: \", clf.score(X_test_tfidf, y_validation_set))"
   ]
  },
  {
   "cell_type": "code",
   "execution_count": 94,
   "metadata": {
    "scrolled": true
   },
   "outputs": [
    {
     "name": "stdout",
     "output_type": "stream",
     "text": [
      "BoW cross validation\n",
      "accuracy:  0.5814158431011981\n"
     ]
    }
   ],
   "source": [
    "### BoW crossValidation 1-gram no dim reduction\n",
    "rf_BoW_acc = cross_val_score (RandomForestClassifier( random_state = 0, criterion= 'gini', max_features= 'auto', n_estimators= 90,\n",
    "                                                     min_samples_leaf = min_samples_leaf, max_depth = max_depth, min_samples_split = min_samples_split), X_train_BoW, y_train_set, cv=3)\n",
    "print(\"BoW cross validation\")\n",
    "\n",
    "print(\"accuracy: \", np.mean(rf_BoW_acc))"
   ]
  },
  {
   "cell_type": "code",
   "execution_count": 95,
   "metadata": {},
   "outputs": [
    {
     "name": "stdout",
     "output_type": "stream",
     "text": [
      "tfidf cross validation\n",
      "accuracy:  0.5815919511153264\n"
     ]
    }
   ],
   "source": [
    "### tfidf crossValidation 1-gram no dim reduction\n",
    "rf_tfidf_acc = cross_val_score ((RandomForestClassifier( random_state = 0, criterion= 'gini', max_features= 'auto', n_estimators= 90, \n",
    "                             min_samples_leaf = min_samples_leaf, max_depth = max_depth, min_samples_split = min_samples_split)), X_train_tfidf,y_train_set, cv=3)\n",
    "print(\"tfidf cross validation\")\n",
    "print(\"accuracy: \", np.mean(rf_tfidf_acc))"
   ]
  },
  {
   "cell_type": "code",
   "execution_count": 105,
   "metadata": {},
   "outputs": [
    {
     "name": "stdout",
     "output_type": "stream",
     "text": [
      "tfidf holdout\n",
      "training accuracy 0.5813571260859357\n",
      "testing accuracy:  0.578052874527906\n"
     ]
    }
   ],
   "source": [
    "# tfidf 2-gram no dim reduction\n",
    "clf = RandomForestClassifier(random_state = 0, criterion= 'gini', max_features= 'auto', n_estimators= 90,\n",
    "                            min_samples_leaf = min_samples_leaf, max_depth = max_depth, min_samples_split = min_samples_split)\n",
    "clf.fit(X_train_tfidf2, y_train_set)\n",
    "clf.predict(X_test_tfidf2)\n",
    "print(\"tfidf holdout\")\n",
    "print(\"training accuracy\", clf.score(X_train_tfidf2, y_train_set))\n",
    "print(\"testing accuracy: \", clf.score(X_test_tfidf2, y_validation_set))"
   ]
  },
  {
   "cell_type": "markdown",
   "metadata": {},
   "source": [
    "##### 2gram case"
   ]
  },
  {
   "cell_type": "code",
   "execution_count": 97,
   "metadata": {},
   "outputs": [
    {
     "name": "stdout",
     "output_type": "stream",
     "text": [
      "BoW cross validation\n",
      "accuracy:  0.5813571369840207\n"
     ]
    }
   ],
   "source": [
    "# bow 2-gram no dim reduction cv\n",
    "rf_BoW_acc = cross_val_score (RandomForestClassifier( random_state = 0, criterion= 'gini', max_features= 'auto', n_estimators= 90,\n",
    "                                                     min_samples_leaf = min_samples_leaf, max_depth = max_depth, min_samples_split = min_samples_split), X_train_BoW2, y_train_set, cv=3)\n",
    "print(\"BoW cross validation\")\n",
    "\n",
    "print(\"accuracy: \", np.mean(rf_BoW_acc))"
   ]
  },
  {
   "cell_type": "markdown",
   "metadata": {},
   "source": [
    "bow 2-gram holdout no dim reduction"
   ]
  },
  {
   "cell_type": "code",
   "execution_count": 99,
   "metadata": {},
   "outputs": [
    {
     "name": "stdout",
     "output_type": "stream",
     "text": [
      "tfidf holdout\n",
      "training accuracy 0.5813571260859357\n",
      "testing accuracy:  0.578052874527906\n"
     ]
    }
   ],
   "source": [
    "clf = RandomForestClassifier(random_state = 0, criterion= 'gini', max_features= 'auto', n_estimators= 90,\n",
    "                            min_samples_leaf = min_samples_leaf, max_depth = max_depth, min_samples_split = min_samples_split)\n",
    "clf.fit(X_train_BoW2, y_train_set)\n",
    "clf.predict(X_test_BoW2)\n",
    "print(\"tfidf holdout\")\n",
    "print(\"training accuracy\", clf.score(X_train_BoW2, y_train_set))\n",
    "print(\"testing accuracy: \", clf.score(X_test_BoW2, y_validation_set))"
   ]
  },
  {
   "cell_type": "markdown",
   "metadata": {},
   "source": [
    "tfidf 2-gram holdout no dim reduction"
   ]
  },
  {
   "cell_type": "code",
   "execution_count": 98,
   "metadata": {},
   "outputs": [
    {
     "name": "stdout",
     "output_type": "stream",
     "text": [
      "tfidf cross validation\n",
      "accuracy:  0.5813571369840207\n"
     ]
    }
   ],
   "source": [
    "rf_tfidf_acc = cross_val_score (RandomForestClassifier( random_state = 0, criterion= 'gini', max_features= 'auto', n_estimators= 90,\n",
    "                                                     min_samples_leaf = min_samples_leaf, max_depth = max_depth, min_samples_split = min_samples_split), X_train_tfidf2,y_train_set, cv=3)\n",
    "print(\"tfidf cross validation\")\n",
    "\n",
    "print(\"accuracy: \", np.mean(rf_BoW_acc))"
   ]
  },
  {
   "cell_type": "markdown",
   "metadata": {},
   "source": [
    "##### BoW 1gram dimension reduction"
   ]
  },
  {
   "cell_type": "code",
   "execution_count": 101,
   "metadata": {},
   "outputs": [
    {
     "name": "stdout",
     "output_type": "stream",
     "text": [
      "BoW cross validation\n",
      "accuracy:  0.6011974579992828\n"
     ]
    }
   ],
   "source": [
    "rf_BoW_acc = cross_val_score (RandomForestClassifier( random_state = 0, criterion= 'gini', max_features= 'auto', n_estimators= 90,\n",
    "                                                     min_samples_leaf = min_samples_leaf, max_depth = max_depth, min_samples_split = min_samples_split),X_ch2_train_BoW, y_train_set, cv=3)\n",
    "print(\"BoW cross validation\")\n",
    "\n",
    "print(\"accuracy: \", np.mean(rf_BoW_acc))"
   ]
  },
  {
   "cell_type": "markdown",
   "metadata": {},
   "source": [
    "BoW 1gram dimension reduction holdout "
   ]
  },
  {
   "cell_type": "code",
   "execution_count": 103,
   "metadata": {},
   "outputs": [
    {
     "name": "stdout",
     "output_type": "stream",
     "text": [
      "tfidf holdout\n",
      "training accuracy 0.6182202394928387\n",
      "testing accuracy:  0.5971464540495174\n"
     ]
    }
   ],
   "source": [
    "clf = RandomForestClassifier(random_state = 0, criterion= 'gini', max_features= 'auto', n_estimators= 90,\n",
    "                            min_samples_leaf = min_samples_leaf, max_depth = max_depth, min_samples_split = min_samples_split)\n",
    "clf.fit(X_ch2_train_BoW, y_train_set)\n",
    "clf.predict(X_ch2_test_BoW)\n",
    "print(\"tfidf holdout\")\n",
    "print(\"training accuracy\", clf.score(X_ch2_train_BoW, y_train_set))\n",
    "print(\"testing accuracy: \", clf.score(X_test_tfidf, y_validation_set))"
   ]
  },
  {
   "cell_type": "markdown",
   "metadata": {},
   "source": [
    "#### tfidf 1gram dimension reduction cv"
   ]
  },
  {
   "cell_type": "code",
   "execution_count": 106,
   "metadata": {},
   "outputs": [
    {
     "name": "stdout",
     "output_type": "stream",
     "text": [
      "tfidf cross validation\n",
      "accuracy:  0.6013734316271592\n"
     ]
    }
   ],
   "source": [
    "rf_tfidf_acc = cross_val_score (RandomForestClassifier( random_state = 0, criterion= 'gini', max_features= 'auto', n_estimators= 90,\n",
    "                                                     min_samples_leaf = min_samples_leaf, max_depth = max_depth, min_samples_split = min_samples_split), X_ch2_train_tfidf,y_train_set, cv=3)\n",
    "print(\"tfidf cross validation\")\n",
    "\n",
    "print(\"accuracy: \", np.mean(rf_tfidf_acc))"
   ]
  },
  {
   "cell_type": "markdown",
   "metadata": {},
   "source": [
    "#### tfidf 1-gram dimension reduction hold out"
   ]
  },
  {
   "cell_type": "code",
   "execution_count": 104,
   "metadata": {},
   "outputs": [
    {
     "name": "stdout",
     "output_type": "stream",
     "text": [
      "tfidf holdout\n",
      "training accuracy 0.619335524771073\n",
      "testing accuracy:  0.5990348300461603\n"
     ]
    }
   ],
   "source": [
    "clf = RandomForestClassifier(random_state = 0, criterion= 'gini', max_features= 'auto', n_estimators= 90,\n",
    "                            min_samples_leaf = min_samples_leaf, max_depth = max_depth, min_samples_split = min_samples_split)\n",
    "clf.fit(X_ch2_train_tfidf, y_train_set)\n",
    "clf.predict(X_ch2_test_tfidf)\n",
    "print(\"tfidf holdout\")\n",
    "print(\"training accuracy\", clf.score(X_ch2_train_tfidf, y_train_set))\n",
    "print(\"testing accuracy: \", clf.score(X_ch2_test_tfidf, y_validation_set))"
   ]
  },
  {
   "cell_type": "code",
   "execution_count": null,
   "metadata": {},
   "outputs": [],
   "source": []
  },
  {
   "cell_type": "markdown",
   "metadata": {},
   "source": [
    "##### 2gram dimension reduction"
   ]
  },
  {
   "cell_type": "code",
   "execution_count": null,
   "metadata": {},
   "outputs": [
    {
     "name": "stdout",
     "output_type": "stream",
     "text": [
      "BoW cross validation\n",
      "accuracy:  0.5925603138531031\n"
     ]
    }
   ],
   "source": [
    "rf_BoW_acc = cross_val_score (RandomForestClassifier( random_state = 0, criterion= 'gini', max_features= 'auto', n_estimators= 90,\n",
    "                                                     min_samples_leaf = min_samples_leaf, max_depth = max_depth, min_samples_split = min_samples_split),x_var_train_BoW2,y_train_set, cv=3)\n",
    "print(\"BoW cross validation\")\n",
    "\n",
    "print(\"accuracy: \", np.mean(rf_BoW_acc))"
   ]
  },
  {
   "cell_type": "code",
   "execution_count": 108,
   "metadata": {},
   "outputs": [
    {
     "name": "stdout",
     "output_type": "stream",
     "text": [
      "tfidf holdout\n",
      "training accuracy 0.6006691711669406\n",
      "testing accuracy:  0.5895929500629459\n"
     ]
    }
   ],
   "source": [
    "clf = RandomForestClassifier(random_state = 0, criterion= 'gini', max_features= 'auto', n_estimators= 90,\n",
    "                            min_samples_leaf = min_samples_leaf, max_depth = max_depth, min_samples_split = min_samples_split)\n",
    "clf.fit(X_ch2_train_BoW2, y_train_set)\n",
    "clf.predict(X_ch2_test_BoW2)\n",
    "print(\"tfidf holdout\")\n",
    "print(\"training accuracy\", clf.score(X_ch2_train_BoW2, y_train_set))\n",
    "print(\"testing accuracy: \", clf.score(X_ch2_test_BoW2, y_validation_set))"
   ]
  },
  {
   "cell_type": "code",
   "execution_count": null,
   "metadata": {},
   "outputs": [
    {
     "name": "stdout",
     "output_type": "stream",
     "text": [
      "tfidf cross validation\n",
      "accuracy:  0.5938904207738699\n"
     ]
    }
   ],
   "source": [
    "rf_tfidf_acc = cross_val_score (RandomForestClassifier( random_state = 0, criterion= 'gini', max_features= 'auto', n_estimators= 90,\n",
    "                                                     min_samples_leaf = min_samples_leaf, max_depth = max_depth, min_samples_split = min_samples_split),x_var_train_tfidf2, y_train_set, cv=3)\n",
    "print(\"tfidf cross validation\")\n",
    "\n",
    "print(\"accuracy: \", np.mean(rf_tfidf_acc))"
   ]
  },
  {
   "cell_type": "code",
   "execution_count": 107,
   "metadata": {},
   "outputs": [
    {
     "name": "stdout",
     "output_type": "stream",
     "text": [
      "tfidf holdout\n",
      "training accuracy 0.6035454332002818\n",
      "testing accuracy:  0.5870751154007553\n"
     ]
    }
   ],
   "source": [
    "clf = RandomForestClassifier(random_state = 0, criterion= 'gini', max_features= 'auto', n_estimators= 90,\n",
    "                            min_samples_leaf = min_samples_leaf, max_depth = max_depth, min_samples_split = min_samples_split)\n",
    "clf.fit(X_ch2_train_tfidf2, y_train_set)\n",
    "clf.predict(X_ch2_test_tfidf2)\n",
    "print(\"tfidf holdout\")\n",
    "print(\"training accuracy\", clf.score(X_ch2_train_tfidf2, y_train_set))\n",
    "print(\"testing accuracy: \", clf.score(X_ch2_test_tfidf2, y_validation_set))"
   ]
  },
  {
   "cell_type": "markdown",
   "metadata": {},
   "source": [
    "#### stacking"
   ]
  },
  {
   "cell_type": "code",
   "execution_count": null,
   "metadata": {},
   "outputs": [],
   "source": [
    "from sklearn.preprocess import StandardScaler\n",
    "from sklearn.pipeline import make_pipeline\n",
    "from sklearn.ensemble import StackingClassifier\n"
   ]
  },
  {
   "cell_type": "code",
   "execution_count": null,
   "metadata": {},
   "outputs": [],
   "source": []
  },
  {
   "cell_type": "code",
   "execution_count": null,
   "metadata": {},
   "outputs": [],
   "source": []
  },
  {
   "cell_type": "code",
   "execution_count": null,
   "metadata": {},
   "outputs": [],
   "source": []
  },
  {
   "cell_type": "code",
   "execution_count": null,
   "metadata": {},
   "outputs": [],
   "source": []
  },
  {
   "cell_type": "code",
   "execution_count": null,
   "metadata": {},
   "outputs": [],
   "source": []
  },
  {
   "cell_type": "code",
   "execution_count": null,
   "metadata": {},
   "outputs": [],
   "source": []
  },
  {
   "cell_type": "code",
   "execution_count": null,
   "metadata": {},
   "outputs": [],
   "source": []
  },
  {
   "cell_type": "code",
   "execution_count": null,
   "metadata": {},
   "outputs": [],
   "source": []
  },
  {
   "cell_type": "code",
   "execution_count": null,
   "metadata": {},
   "outputs": [],
   "source": []
  },
  {
   "cell_type": "code",
   "execution_count": null,
   "metadata": {},
   "outputs": [],
   "source": []
  },
  {
   "cell_type": "code",
   "execution_count": null,
   "metadata": {},
   "outputs": [],
   "source": []
  },
  {
   "cell_type": "code",
   "execution_count": null,
   "metadata": {},
   "outputs": [],
   "source": []
  },
  {
   "cell_type": "code",
   "execution_count": null,
   "metadata": {},
   "outputs": [],
   "source": []
  },
  {
   "cell_type": "code",
   "execution_count": null,
   "metadata": {},
   "outputs": [],
   "source": []
  },
  {
   "cell_type": "code",
   "execution_count": null,
   "metadata": {},
   "outputs": [],
   "source": []
  },
  {
   "cell_type": "code",
   "execution_count": null,
   "metadata": {},
   "outputs": [],
   "source": []
  },
  {
   "cell_type": "code",
   "execution_count": null,
   "metadata": {},
   "outputs": [],
   "source": []
  },
  {
   "cell_type": "code",
   "execution_count": null,
   "metadata": {},
   "outputs": [],
   "source": []
  },
  {
   "cell_type": "code",
   "execution_count": null,
   "metadata": {},
   "outputs": [],
   "source": []
  },
  {
   "cell_type": "code",
   "execution_count": null,
   "metadata": {},
   "outputs": [],
   "source": []
  },
  {
   "cell_type": "code",
   "execution_count": null,
   "metadata": {},
   "outputs": [],
   "source": []
  },
  {
   "cell_type": "code",
   "execution_count": null,
   "metadata": {},
   "outputs": [],
   "source": []
  },
  {
   "cell_type": "code",
   "execution_count": null,
   "metadata": {},
   "outputs": [],
   "source": []
  },
  {
   "cell_type": "code",
   "execution_count": null,
   "metadata": {},
   "outputs": [],
   "source": []
  },
  {
   "cell_type": "code",
   "execution_count": null,
   "metadata": {},
   "outputs": [],
   "source": []
  },
  {
   "cell_type": "code",
   "execution_count": null,
   "metadata": {},
   "outputs": [],
   "source": []
  },
  {
   "cell_type": "code",
   "execution_count": null,
   "metadata": {},
   "outputs": [],
   "source": []
  },
  {
   "cell_type": "code",
   "execution_count": null,
   "metadata": {},
   "outputs": [],
   "source": []
  },
  {
   "cell_type": "code",
   "execution_count": null,
   "metadata": {},
   "outputs": [],
   "source": []
  },
  {
   "cell_type": "code",
   "execution_count": null,
   "metadata": {},
   "outputs": [],
   "source": []
  },
  {
   "cell_type": "code",
   "execution_count": null,
   "metadata": {},
   "outputs": [],
   "source": []
  },
  {
   "cell_type": "code",
   "execution_count": null,
   "metadata": {},
   "outputs": [],
   "source": []
  },
  {
   "cell_type": "code",
   "execution_count": null,
   "metadata": {},
   "outputs": [],
   "source": []
  },
  {
   "cell_type": "code",
   "execution_count": null,
   "metadata": {},
   "outputs": [],
   "source": []
  },
  {
   "cell_type": "code",
   "execution_count": null,
   "metadata": {},
   "outputs": [],
   "source": []
  }
 ],
 "metadata": {
  "kernelspec": {
   "display_name": "Python 3",
   "language": "python",
   "name": "python3"
  },
  "language_info": {
   "codemirror_mode": {
    "name": "ipython",
    "version": 3
   },
   "file_extension": ".py",
   "mimetype": "text/x-python",
   "name": "python",
   "nbconvert_exporter": "python",
   "pygments_lexer": "ipython3",
   "version": "3.8.5"
  }
 },
 "nbformat": 4,
 "nbformat_minor": 4
}
